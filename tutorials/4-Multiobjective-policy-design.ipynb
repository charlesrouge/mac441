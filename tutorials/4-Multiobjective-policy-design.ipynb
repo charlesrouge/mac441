{
 "cells": [
  {
   "cell_type": "markdown",
   "id": "9548c602-f074-41bb-b32b-642d0f25d1c4",
   "metadata": {},
   "source": [
    "# Part 1: Imports, data uploads and preparation.\n",
    "\n",
    "As is customary, let us first call the Python libraries needed here, and upload the needed data and code."
   ]
  },
  {
   "cell_type": "code",
   "execution_count": null,
   "id": "809c066b-c2e2-4366-bf2f-01db7feefefe",
   "metadata": {},
   "outputs": [],
   "source": [
    "from model import setup, balance_calcs, performance, visuals\n",
    "import copy\n",
    "import pandas as pd\n",
    "import numpy as np\n",
    "import rhodium\n",
    "from matplotlib import pyplot as plt\n",
    "import datetime"
   ]
  },
  {
   "cell_type": "markdown",
   "id": "58289cf6-a9a8-438d-a7a4-e56550ed7b8e",
   "metadata": {},
   "source": [
    "## Loading model and water balance for historical data\n",
    "\n",
    "Insert the name of **your coursework reservoir** below."
   ]
  },
  {
   "cell_type": "code",
   "execution_count": null,
   "id": "50059c96-b4c6-49af-8377-879d378233c1",
   "metadata": {},
   "outputs": [],
   "source": [
    "# Preparing the model\n",
    "reservoir_name = 'coursework'\n",
    "downstream_demand_names = ['Environmental']\n",
    "direct_demand_names = ['Clean water', 'Irrigation']  # With intake and demand specifications"
   ]
  },
  {
   "cell_type": "code",
   "execution_count": null,
   "id": "528dac18-2436-4874-8ff4-00c5c66d3f09",
   "metadata": {},
   "outputs": [],
   "source": [
    "# Loading the model!\n",
    "coursework = setup.define_reservoir(reservoir_name, downstream_demand_names, direct_demand_names)\n",
    "\n",
    "# Read flow and demand data\n",
    "flows_init = setup.extract_flows(reservoir=coursework)"
   ]
  },
  {
   "cell_type": "code",
   "execution_count": null,
   "id": "db56bf74-dfd7-4598-b29b-d340c24c07ca",
   "metadata": {},
   "outputs": [],
   "source": [
    "# Computing the water balance for our standard operating policy (SOP)\n",
    "sop_balance = flows_init.copy()\n",
    "sop_balance = balance_calcs.sop_full(coursework, sop_balance)\n",
    "display(sop_balance.head())"
   ]
  },
  {
   "cell_type": "markdown",
   "id": "f8dcf2e2-0df3-4fb0-9ef9-b8c84ee1770c",
   "metadata": {},
   "source": [
    "## Motivation for changing the operating policy"
   ]
  },
  {
   "cell_type": "code",
   "execution_count": null,
   "id": "e29ea170-7b6b-4bae-8c99-bf450f03f87b",
   "metadata": {},
   "outputs": [],
   "source": [
    "# Let us create a time series of hydropower releases\n",
    "sop_hp_release = np.minimum(sop_balance['Release (m3/s)'].values, np.ones(len(sop_balance))*coursework.hydropower_plant.max_release)\n",
    "\n",
    "# We plot hydropower releases vs. total releases. What do we see?\n",
    "fig = visuals.compare_flow_timeseries(reference=pd.Series(sop_balance['Release (m3/s)']),\n",
    "                                      alternative=pd.Series(sop_hp_release, index=sop_balance.index),\n",
    "                                      labels=['Total release', 'Hydropower release'], \n",
    "                                      first_date=datetime.date(1990, 1, 1), \n",
    "                                      last_date=datetime.date(1991, 1, 1))"
   ]
  },
  {
   "cell_type": "markdown",
   "id": "3a88934a-01c7-49f8-b6d1-d13da7e5dd97",
   "metadata": {},
   "source": [
    ">* **Question 1. What is the extra release? What does that mean for hydropower production under SOP?**\n",
    "\n",
    "Note that you can change the dates in the plot above to visualise other years. You'll see that even very dry years (such as 1964) still have significant extra release.\n",
    "\n",
    "\n",
    "# Part 2: Storage targets\n",
    "\n",
    "We see that if we let the reservoir fill up entirely, sometimes we have no choice but to let water be spilled, i.e., not having any meaningful use. To mitigate this, we define a policy such that **when storage is above the target we can release more than specified by SOP, and produce hydropower.**\n",
    "Otherwise we stick to the standard operating policy (SOP), and avoid extra releases to protect supply. Targets can change every month because the need for conserving water changes during the year, it is stronger in summer than in winter months.\n",
    "\n",
    "To implement this target, we use method `monthly_storage_targets` from `balance_calcs.py`. Have a look at the method to understand what it does: you can look at the text at the top of the function, and / or copy and paste the method into Gemini and ask for explanation on any point that's unclear."
   ]
  },
  {
   "cell_type": "markdown",
   "id": "263c6da7-ee56-43db-8501-bb5fa47aa071",
   "metadata": {},
   "source": [
    ">* **Question 2. The standard operating policy (SOP) is equivalent to setting storage targets at which level?**"
   ]
  },
  {
   "cell_type": "code",
   "execution_count": null,
   "id": "50684a6d-edcc-4a8d-9284-371ab97bbf8f",
   "metadata": {},
   "outputs": [],
   "source": [
    "# Testing\n",
    "my_balance = flows_init.copy()\n",
    "balance_calcs.monthly_storage_targets(reservoir=coursework, \n",
    "                                      water_flows=my_balance,\n",
    "                                      monthly_target=np.ones(12)*coursework.full_lake_volume)\n",
    "print(my_balance.equals(sop_balance))"
   ]
  },
  {
   "cell_type": "markdown",
   "id": "8472a0e8-1797-4662-a6c4-531563d28cfa",
   "metadata": {},
   "source": [
    "## 2.1 - Optimization"
   ]
  },
  {
   "cell_type": "markdown",
   "id": "63012ed2-2a82-4528-ba0d-7aac2fa1823a",
   "metadata": {},
   "source": [
    "Now we can define our optimization of monthly storage targets. **Note that since this tutorial does not model firm power, I multiplied irrigation by 3.** This multiplier would need to be brought back to 1 if firm power is integrated."
   ]
  },
  {
   "cell_type": "code",
   "execution_count": null,
   "id": "a0ea04b0-efe9-4a97-9ce5-8ad394f1fdd6",
   "metadata": {},
   "outputs": [],
   "source": [
    "def optimization_problem(storage_target,\n",
    "                         irrigation_multiplier=3.0):\n",
    "    \"\"\"\n",
    "    Simulator for the performance of the reservoir if monthly storage targets are implemented,\n",
    "    and irrigation area increased.\n",
    "    :param storage_target: numpy vector, 12 long, one value for each month (in m3)\n",
    "    :param irrigation_multiplier: float, the quantity by which to multiply irrigation demand\n",
    "    :return: reliability of irrigation demand (0-1 scale), average daily hydropower production (MWh)\n",
    "    \"\"\"\n",
    "\n",
    "    # Get copies of the data so that there is an untouched original copy\n",
    "    balance_table = flows_init.copy()\n",
    "    reservoir = copy.deepcopy(coursework)\n",
    "    balance_table['Irrigation demand (m3/s)'] = balance_table['Irrigation demand (m3/s)'] * irrigation_multiplier\n",
    "\n",
    "    # Computing the water balance for our policy\n",
    "    balance_calcs.monthly_storage_targets(reservoir=reservoir, water_flows=balance_table, monthly_target=storage_target)\n",
    "\n",
    "    # We compute performance indicators\n",
    "    # Global reliability\n",
    "    rel = performance.reliability(balance_table['Withdrawals Irrigation (m3/s)'],\n",
    "                                  balance_table['Irrigation demand (m3/s)'], above_desirable=True)\n",
    "    # Hydropower production: average daily production (MWh)\n",
    "    hp_average = reservoir.daily_production(balance_table).mean()\n",
    "\n",
    "    return rel, hp_average"
   ]
  },
  {
   "cell_type": "code",
   "execution_count": null,
   "id": "bcea10d6-8250-4651-ba68-577c504b0d09",
   "metadata": {},
   "outputs": [],
   "source": [
    "# Get SOP results with 3 times the irrigation (baseline)\n",
    "baseline_results = optimization_problem(np.ones(12)*coursework.full_lake_volume)\n",
    "print('Irrigation reliability is ' + \"{:.3f}\".format(baseline_results[0]) + '.')\n",
    "print('Average daily hydropower production over 70 years is ' + \"{:.1f}\".format(baseline_results[1]) + ' MWh.')"
   ]
  },
  {
   "cell_type": "markdown",
   "id": "ce8a4be3-a2f3-4b82-941b-ecd950e6e933",
   "metadata": {},
   "source": [
    "Next we define the model as per the nomenclature of the Rhodium library. Note the constraint on reliability."
   ]
  },
  {
   "cell_type": "code",
   "execution_count": null,
   "id": "29af1f50-f97a-48aa-a54f-bc253f674e25",
   "metadata": {},
   "outputs": [],
   "source": [
    "# Let us now define the model for the Rhodium library\n",
    "storage_targets = rhodium.Model(optimization_problem)\n",
    "\n",
    "# Model parameters\n",
    "storage_targets.parameters = [rhodium.Parameter('storage_target'),\n",
    "                              rhodium.Parameter('irrigation_multiplier')]\n",
    "\n",
    "# Model levers. Notice how these can be different from the parameters\n",
    "storage_targets.levers = [rhodium.RealLever('storage_target', coursework.dead_storage, coursework.full_lake_volume,\n",
    "                                            length=12)]\n",
    "\n",
    "# Model responses, i.e., the metrics we seek to maximize / minimize as objectives.\n",
    "storage_targets.responses = [rhodium.Response('rel', rhodium.Response.MAXIMIZE),\n",
    "                             rhodium.Response('hp_average', rhodium.Response.MAXIMIZE)]\n",
    "\n",
    "# Constraint: we want reliability over a threshold\n",
    "storage_targets.constraints = [rhodium.Constraint('rel > 0.90')]"
   ]
  },
  {
   "cell_type": "markdown",
   "id": "d5ae5b0e-51f7-469a-ae6f-c8dcc52c3f2b",
   "metadata": {},
   "source": [
    "Next, perform the optimization (if needed) or upload a typical results CSV, provided with the tutorial material (note it is not necessarily tailored 100% to your data, but it enables you first to run the tutorial without the optimization)."
   ]
  },
  {
   "cell_type": "code",
   "execution_count": null,
   "id": "3e72fdf2-4e8a-4f19-bab8-493dc275f180",
   "metadata": {},
   "outputs": [],
   "source": [
    "# Switch optimization to 1 to run it.\n",
    "optimization = 0\n",
    "results_path = 'results/optimized_storage_targets.csv'\n",
    "\n",
    "if optimization == 1:\n",
    "    # Optimize\n",
    "    output = rhodium.optimize(storage_targets, \"NSGAII\", 5000)\n",
    "    print(\"Found\", len(output), \"optimal policies!\")\n",
    "    #Save results\n",
    "    df_results = output.as_dataframe()\n",
    "    df_results.to_csv(results_path)\n",
    "else:\n",
    "    # Load results\n",
    "    df_results = pd.read_csv(results_path, index_col=0)#, dtype={'storage_target': list, 'rel': np.float64, 'hp_average': np.float64})    "
   ]
  },
  {
   "cell_type": "markdown",
   "id": "8d455982-c3d6-48cc-9a9d-c4a17339a0b2",
   "metadata": {},
   "source": [
    "# 2.2 - Policy design"
   ]
  },
  {
   "cell_type": "code",
   "execution_count": null,
   "id": "103055dd-94dc-4bba-8bd1-58cbf2a69f2c",
   "metadata": {},
   "outputs": [],
   "source": [
    "fig = plt.figure(figsize=(14,8))\n",
    "ax = fig.add_subplot(1, 1, 1)\n",
    "ax.scatter(baseline_results[0], baseline_results[1], color='r', marker='s', label='SOP')\n",
    "ax.scatter(df_results['rel'], df_results['hp_average'], label='Storage targets')\n",
    "ax.legend(prop={'size': 14})\n",
    "ax.set_xlabel('Irrigation reliability', size=16)\n",
    "ax.set_ylabel('Average daily hydropower (MWh)', size=16)\n",
    "ax.tick_params(axis='both', which='major', labelsize=14)"
   ]
  },
  {
   "cell_type": "markdown",
   "id": "6abbd068-a983-44de-92d2-56a06861faf1",
   "metadata": {},
   "source": [
    ">* **Question 3. What solution do you decide to select and why?**\n",
    "\n",
    "Let us visualise what some of the solutions mean in terms of storage targets."
   ]
  },
  {
   "cell_type": "code",
   "execution_count": null,
   "id": "b15bb417-e6d8-4e29-9418-bc3b24840f14",
   "metadata": {},
   "outputs": [],
   "source": [
    "sol_nb = df_results['rel'].idxmax()\n",
    "# If you are loading the results from a CSV, it read a string, and we need to convert into a vector. If you used optimization, you don't need to convert.\n",
    "if isinstance(df_results.loc[sol_nb, 'storage_target'], str):\n",
    "    monthly_targets = np.array(df_results.loc[sol_nb, 'storage_target'][1:-1].split(','), dtype=float)\n",
    "else:\n",
    "    monthly_targets = df_results.loc[sol_nb, 'storage_target']\n",
    "\n",
    "fig = plt.figure(figsize=(14,8))\n",
    "ax = fig.add_subplot(1, 1, 1)\n",
    "ax.bar(np.arange(1,13), monthly_targets, label='Target storage')\n",
    "ax.set_xticks(ticks=np.arange(1, 13, 1), labels=['J', 'F', 'M', 'A', 'M', 'J', 'J', 'A', 'S', 'O', 'N', 'D'])\n",
    "ax.plot(np.arange(0, 14, 1), coursework.full_lake_volume * np.ones(14), c='black', linewidth=2, label='Max storage')\n",
    "ax.plot(np.arange(0, 14, 1), coursework.dead_storage * np.ones(14), c='black', linestyle='--', linewidth=2, label='Dead storage')\n",
    "ax.set_ylabel('Storage (m3)', size=16)\n",
    "ax.set_xlabel('Month', size=16)\n",
    "ax.set_xlim(0.4, 12.6)\n",
    "ax.tick_params(axis='both', which='major', labelsize=14)"
   ]
  },
  {
   "cell_type": "markdown",
   "id": "b7cff9aa-5231-44c9-8175-c1ce754787bf",
   "metadata": {},
   "source": [
    ">* **Question 4. Outputs from MOEAs are random up to a point. How can we translate that into a release policy design?** "
   ]
  },
  {
   "cell_type": "code",
   "execution_count": null,
   "id": "786b353b-7e32-4368-9927-55cc1c4f5f25",
   "metadata": {},
   "outputs": [],
   "source": [
    "# Let's implement this, e.g., for irrigation we may have\n",
    "design_targets = np.array(monthly_targets)  # Initialise\n",
    "\n",
    "# Beginning of year\n",
    "design_targets[0:4] = np.mean(monthly_targets[0:4])\n",
    "\n",
    "# End of year\n",
    "design_targets[8:12] = np.mean(monthly_targets[8:12])"
   ]
  },
  {
   "cell_type": "code",
   "execution_count": null,
   "id": "b4e33c3a-5266-47ba-ad83-a92c183d9465",
   "metadata": {},
   "outputs": [],
   "source": [
    "# Let's visualise the result!\n",
    "fig = plt.figure(figsize=(14,8))\n",
    "ax = fig.add_subplot(1, 1, 1)\n",
    "ax.bar(np.arange(1,13), design_targets, label='Target storage')\n",
    "ax.set_xticks(ticks=np.arange(1, 13, 1), labels=['J', 'F', 'M', 'A', 'M', 'J', 'J', 'A', 'S', 'O', 'N', 'D'])\n",
    "ax.plot(np.arange(0, 14, 1), coursework.full_lake_volume * np.ones(14), c='black', linewidth=2, label='Max storage')\n",
    "ax.plot(np.arange(0, 14, 1), coursework.dead_storage * np.ones(14), c='black', linestyle='--', linewidth=2, label='Dead storage')\n",
    "ax.set_ylabel('Storage (m3)', size=16)\n",
    "ax.set_xlabel('Month', size=16)\n",
    "ax.set_xlim(0.4, 12.6)\n",
    "ax.tick_params(axis='both', which='major', labelsize=14)"
   ]
  },
  {
   "cell_type": "markdown",
   "id": "9872d0e7-055e-4dec-b2fb-e7bc2775eec9",
   "metadata": {},
   "source": [
    ">* **Question 5. How do you explain the seasonal variations in storage targets?** "
   ]
  },
  {
   "cell_type": "code",
   "execution_count": null,
   "id": "f7974380-84ee-4d1c-9f60-7a808d8d28c2",
   "metadata": {},
   "outputs": [],
   "source": [
    "# How does that affect performance?\n",
    "raw_results = optimization_problem(monthly_targets)\n",
    "design_results = optimization_problem(design_targets)\n",
    "print('Irrigation reliability is ' + \"{:.3f}\".format(design_results[0]) + ' for the design vs. ' \n",
    "      + \"{:.3f}\".format(raw_results[0]) + ' for the raw optimization result.')\n",
    "print('Average daily hydropower production over 70 years is ' + \"{:.1f}\".format(design_results[1]) + ' MWh for the design policy vs. ' \n",
    "      + \"{:.1f}\".format(raw_results[1]) + ' MWh for the raw optimization result.')"
   ]
  },
  {
   "cell_type": "markdown",
   "id": "ff785484-dd9b-4548-9ee8-f92bd2e4dd50",
   "metadata": {},
   "source": [
    ">* **Question 6. What do you make of the discrepancy between the two?**"
   ]
  },
  {
   "cell_type": "code",
   "execution_count": null,
   "id": "bf8880a2-2f2a-40f5-b322-1661a29f5125",
   "metadata": {},
   "outputs": [],
   "source": []
  }
 ],
 "metadata": {
  "kernelspec": {
   "display_name": "mac441",
   "language": "python",
   "name": "mac441"
  },
  "language_info": {
   "codemirror_mode": {
    "name": "ipython",
    "version": 3
   },
   "file_extension": ".py",
   "mimetype": "text/x-python",
   "name": "python",
   "nbconvert_exporter": "python",
   "pygments_lexer": "ipython3",
   "version": "3.12.3"
  }
 },
 "nbformat": 4,
 "nbformat_minor": 5
}
