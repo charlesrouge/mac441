{
 "cells": [
  {
   "cell_type": "markdown",
   "id": "d9e1c912-f85a-4102-a659-840b330998a6",
   "metadata": {},
   "source": [
    "# Tutorial 6: Robustness\n",
    "\n",
    "In this tutorial we explore what different climate change scenarios and different adaptation options might mean for Conowingo Dam management objectives, and for the different actors who pursue these objectives.\n",
    "\n",
    "As usual, we start with library imports."
   ]
  },
  {
   "cell_type": "code",
   "execution_count": null,
   "id": "ec22f5f7-8c9e-499a-8fe3-6b044ca974c6",
   "metadata": {},
   "outputs": [],
   "source": [
    "from model import setup, balance_calcs, performance, visuals\n",
    "import numpy as np\n",
    "import pandas as pd\n",
    "import copy\n",
    "import os"
   ]
  },
  {
   "cell_type": "markdown",
   "id": "7dfecfcd-4a5d-49b8-ba45-6cf5e5fd4db8",
   "metadata": {},
   "source": [
    "# Part 1 - Analysis setup\n",
    "\n",
    "## 1.1 - Problem framing\n",
    "\n",
    "Our XLRM is as follows:\n",
    "\n",
    "**X**\n",
    "\n",
    ">* Flow variability is represented by the historical time series.\n",
    ">* We also account for climate change: we are going to simulate what would happen in a drier future. To not deal with several variables at a time, here we use the uniform model to reduce flows by increments of 5%, up to 30%.\n",
    "\n",
    "**L**\n",
    "\n",
    "> We assume a standard operating policy (SOP) for the day-to-day operational release decisions of the reservoir.\n",
    "\n",
    "To plan for climate change, we want to explore the following four options:\n",
    "> L0: current setup;\n",
    "> \n",
    "> L1: a new Peach Bottom intake at the same height as the Baltimore intake;\n",
    "> \n",
    "> L2: a new desalination plant at Baltimore, that replaces the withdrawal from Conowingo when the reservoir is less than full (i.e. Baltimore withdrawals drop to zero then);\n",
    "> \n",
    "> L3: the two options above implemented simultaneously.\n",
    "\n",
    "**R**\n",
    "\n",
    "> In previous tutorials, we built a water balance model of the system, and are going to use it here.\n",
    "\n",
    "**M**\n",
    "\n",
    "*For each management objective we will compute **R-R-V indicators, volumetric reliability, and count of the number of failure events** (note in this tutorial we count failure events per year, rather than across all 70 years of simulation).* These objectives are:\n",
    "> 1. Meeting the residential demand for the city of Baltimore;\n",
    "> 2. Meeting the residential demand for the city of Chester;\n",
    "> 3. Meeting the industrial demand for the Peach Bottom nuclear plant;\n",
    "> 4. Respecting the environmental flow requirement (ecological uses);\n",
    "> 5. Avoiding flows above 15,000 m3/s that lead to flooding downstream in the town of Port Deposit;\n",
    "> 6. Hydropower production. Contrary to the other, this objective is only evaluated by computing the average annual hydropower production.\n"
   ]
  },
  {
   "cell_type": "markdown",
   "id": "f691a90a-d937-4cef-8060-7341469dd273",
   "metadata": {},
   "source": [
    "## 1.2 - Setting up the model (R)\n",
    "\n",
    "As usual we start with preparing the Conowingo system model."
   ]
  },
  {
   "cell_type": "code",
   "execution_count": null,
   "id": "8f827155-812f-46cb-bbbc-a55162c2f9f4",
   "metadata": {},
   "outputs": [],
   "source": [
    "# Preparing the model\n",
    "reservoir_name = 'Conowingo'\n",
    "downstream_demand_names = ['Environmental']\n",
    "direct_demand_names = ['Baltimore', 'Chester', 'Nuclear plant']\n",
    "\n",
    "# Loading the model!\n",
    "conowingo_default = setup.define_reservoir(reservoir_name, downstream_demand_names, direct_demand_names)\n",
    "\n",
    "# Read flow and demand data. We keep this copy of the data for the simulation of different futures.\n",
    "flows_default = setup.extract_flows(reservoir=conowingo_default)"
   ]
  },
  {
   "cell_type": "code",
   "execution_count": null,
   "id": "46f3ec58-56a1-4647-a8aa-3d7012f671c8",
   "metadata": {},
   "outputs": [],
   "source": [
    "results_dir = 'results/robustness/'\n",
    "os.makedirs(results_dir, exist_ok = True)"
   ]
  },
  {
   "cell_type": "markdown",
   "id": "f6022659-8105-41a8-b4c7-00f934b37462",
   "metadata": {},
   "source": [
    "# Part 2 - Exploring futures and options\n",
    "\n",
    "**The water balance will be performed for each of the 7 climate change scenarios we consider in X, and for each of the 4 adaptation options we consider in L.**\n"
   ]
  },
  {
   "cell_type": "code",
   "execution_count": null,
   "id": "0e7ad71c-753a-4c75-8518-40d0055c2f85",
   "metadata": {},
   "outputs": [],
   "source": [
    "# Let us declare the number of futures and options\n",
    "nb_futures = 7\n",
    "nb_levers = 4\n",
    "\n",
    "# Let us also declare the number of years of simulation\n",
    "nb_years = 70"
   ]
  },
  {
   "cell_type": "markdown",
   "id": "f65627fc-49f1-4ee4-8d44-ecd7c37b26cd",
   "metadata": {},
   "source": [
    "For this exploration, we will do a double loop on climate scenarios and on levers, and we will need to store the results for robustness analysis. First, we will need to initialise these arrays.\n",
    "\n",
    ">* RRV-type indicators and failure count, each in a 7 by 4 by 5 array (third dimension storing the performance indicators of the 5 objectives that are not hydropower);"
   ]
  },
  {
   "cell_type": "code",
   "execution_count": null,
   "id": "901536b5-91e1-411a-8cb9-968fadf6bc4c",
   "metadata": {},
   "outputs": [],
   "source": [
    "# R-R-V metrics\n",
    "reliability = np.zeros((nb_futures, nb_levers, 5))\n",
    "resilience = np.zeros((nb_futures, nb_levers, 5))\n",
    "vulnerability = np.zeros((nb_futures, nb_levers, 5))\n",
    "\n",
    "# Annual failure rate\n",
    "failure_rate = np.zeros((nb_futures, nb_levers, 5))"
   ]
  },
  {
   "cell_type": "markdown",
   "id": "4c62f3fc-fca9-4d91-af4d-d7c02c5e1664",
   "metadata": {},
   "source": [
    ">* Volumetric reliability in a 7 by 4 by 4 array, since volumetric reliability only concerns objectives 1 to 4;"
   ]
  },
  {
   "cell_type": "code",
   "execution_count": null,
   "id": "6dbddb85-26fa-485e-9ba6-143b4edf92bf",
   "metadata": {},
   "outputs": [],
   "source": [
    "volumetric_reliability = np.zeros((nb_futures, nb_levers, 4))"
   ]
  },
  {
   "cell_type": "markdown",
   "id": "d86a99d9-4933-4ef0-afdc-691c019fc5b2",
   "metadata": {},
   "source": [
    ">* Average annual hydropower production in a 7 by 4 array."
   ]
  },
  {
   "cell_type": "code",
   "execution_count": null,
   "id": "560f7bc6-3a4d-4604-b1ac-c4342dd9a6b4",
   "metadata": {},
   "outputs": [],
   "source": [
    "hp_annual = np.zeros((nb_futures, nb_levers))"
   ]
  },
  {
   "cell_type": "markdown",
   "id": "49022aee-1997-49ea-8026-8976645c8eaf",
   "metadata": {},
   "source": [
    "Once this preliminary work is complete, we have our main double loop. For each inflow scenario (loop on sc) and for each lever combination (loop on l) we compute performance and store it. Note you can toggle `robustness_simulations` from 1 to 0 once you have simulated results, to not have to recompute results every time you run the analysis."
   ]
  },
  {
   "cell_type": "code",
   "execution_count": null,
   "id": "30799d19-1fc5-42a6-bd4f-46caf295aaa2",
   "metadata": {},
   "outputs": [],
   "source": [
    "robustness_simulations = 1\n",
    "\n",
    "if robustness_simulations == 1:\n",
    "\n",
    "    # Loop on flow scenarios\n",
    "    for sc in range(nb_futures):\n",
    "\n",
    "        # Loop on levers\n",
    "        for l in range(nb_levers):\n",
    "\n",
    "            # Re-initialise \"flows\" and get right value of inflows\n",
    "            flows = flows_default.copy()\n",
    "            flows['Total inflows (m3/s)'] = flows['Total inflows (m3/s)'] * (1-0.05 * sc)\n",
    "\n",
    "            # Re-initialise \"reservoir\"\n",
    "            reservoir = copy.deepcopy(conowingo_default)\n",
    "\n",
    "            # Lowering the nuclear plant intake to the level of Baltimore's (for L1 and L3, i.e., when L is an odd number)\n",
    "            if l % 2 == 1:\n",
    "                reservoir.demand_on_site[2].intake_depth = reservoir.demand_on_site[0].intake_depth\n",
    "\n",
    "            # Action plans involving cutting Conowingo dam supply to Baltimore when the reservoir is not full.\n",
    "            # This is equivalent to having the intake at full reservoir level, and happens for L2 and L3\n",
    "            if l > 1:\n",
    "                reservoir.demand_on_site[0].intake_depth = 0.001  # 0 would result in 0 reliability\n",
    "\n",
    "            # Now we simulate the water balance given inflows and levers\n",
    "            flows = balance_calcs.sop_full(reservoir, flows)\n",
    "\n",
    "            # We measure performance\n",
    "            metrics = performance.all_metrics(reservoir=reservoir, water_balance=flows)\n",
    "            # Change vulnerability from string ('XX.XX%') to numeric\n",
    "            metrics['Vulnerability'] = pd.to_numeric(metrics['Vulnerability'].str.replace('%', ''), errors='coerce')\n",
    "\n",
    "            # Storing results\n",
    "            # R-R-V metrics\n",
    "            reliability[sc, l, :] = metrics.loc[:, 'Reliability (0-1)']\n",
    "            resilience[sc, l, :] = metrics.loc[:, 'Resilience (-)']\n",
    "            vulnerability[sc, l, :] = metrics.loc[:, 'Vulnerability']\n",
    "            # Failure rate\n",
    "            failure_rate[sc, l, :] = metrics.loc[:, 'Failure count'] / nb_years\n",
    "            # Volumetric reliability\n",
    "            volumetric_reliability[sc, l, 0:4] = metrics.loc[0:3, 'Volumetric reliability']\n",
    "            # Hydropower (divide by 1,000 to convert from MWh to GWh)\n",
    "            hp_annual[sc, l] = reservoir.daily_production(flows).sum() / nb_years / 1000\n",
    "\n",
    "    # Save results\n",
    "    np.save(results_dir + 'reliability.npy', reliability)\n",
    "    np.save(results_dir + 'resilience.npy', resilience)\n",
    "    np.save(results_dir + 'vulnerability.npy', vulnerability)\n",
    "    np.save(results_dir + 'failure_rate.npy', failure_rate)\n",
    "    np.save(results_dir + 'volumetric_reliability.npy', volumetric_reliability)\n",
    "    np.save(results_dir + 'hp_annual.npy', hp_annual)\n",
    "\n",
    "else:\n",
    "\n",
    "    # We need to load results for what follows.\n",
    "    reliability = np.load(results_dir + 'reliability.npy')\n",
    "    resilience = np.load(results_dir + 'resilience.npy')\n",
    "    vulnerability = np.load(results_dir + 'vulnerability.npy')\n",
    "    failure_rate = np.load(results_dir + 'failure_rate.npy')\n",
    "    volumetric_reliability = np.load(results_dir + 'volumetric_reliability.npy')\n",
    "    hp_annual = np.load(results_dir + 'hp_annual.npy')                "
   ]
  },
  {
   "cell_type": "markdown",
   "id": "35c8558b-05b0-4038-9626-64e285c270f7",
   "metadata": {},
   "source": [
    "# Part 3 - Regret analysis\n",
    "\n",
    "In this part, we are now analysing the results by measuring how actions and the deviations between scenarios interact to improve or degrade performance. We call these measures *regret measures*. Here we consider two types of regret measures:\n",
    "\n",
    "> 1. Deviation from the performance in the baseline scenario for each lever L. This enables us to understand if a lever leads to very different performance depending on what version of the future happens, i.e., if actioning a lever makes the system more or less robust.\n",
    "> 2. Deviation from the best lever in each climate scenario. This enables us to directly compare decisions in each scenario.\n"
   ]
  },
  {
   "cell_type": "code",
   "execution_count": null,
   "id": "242b2352-c64d-42e1-a25a-ea082a204868",
   "metadata": {},
   "outputs": [],
   "source": [
    "lever_list = ['L0', 'L1', 'L2', 'L3']\n",
    "scenario_list = np.arange(0, 35, 5)"
   ]
  },
  {
   "cell_type": "markdown",
   "id": "cb302d15-9cc7-4504-83f9-ce36c3c8330c",
   "metadata": {},
   "source": [
    "## 3.1 Hydropower results\n",
    "\n",
    "Let us start with the simpler metrics, hydropower."
   ]
  },
  {
   "cell_type": "code",
   "execution_count": null,
   "id": "487d8b56-17c5-4a06-a2f8-1b7baebf3c83",
   "metadata": {},
   "outputs": [],
   "source": [
    "fig = visuals.plot_regret(array=hp_annual, \n",
    "                          metric_name='Annual hydropower production (GWh)', \n",
    "                          ref_dim=1, \n",
    "                          lever_list=lever_list, \n",
    "                          scenario_list=scenario_list,\n",
    "                          scenario_label='Flow reduction (%)')"
   ]
  },
  {
   "cell_type": "markdown",
   "id": "7e38beeb-99f1-4da6-a308-c5d9f4fa771b",
   "metadata": {},
   "source": [
    ">* **Question 1. What do we learn from plotting regret as a deviation from the most favourable scenario for hydropower?**"
   ]
  },
  {
   "cell_type": "code",
   "execution_count": null,
   "id": "5b7f418d-975f-4b3f-ac13-d30c015b3b32",
   "metadata": {},
   "outputs": [],
   "source": [
    "fig = visuals.plot_regret(array=hp_annual, \n",
    "                          metric_name='Annual hydropower production (GWh)', \n",
    "                          ref_dim=0, \n",
    "                          lever_list=lever_list, \n",
    "                          scenario_list=scenario_list,\n",
    "                          scenario_label='Flow reduction (%)')"
   ]
  },
  {
   "cell_type": "markdown",
   "id": "c8708c26-fa4f-4634-bb49-6d2930b9e9c4",
   "metadata": {},
   "source": [
    ">* **Question 2. What do we learn from plotting regret as a deviation from the most favourable lever for hydropower?**\n",
    "\n",
    "\n",
    "## 3.2 Multi-actor analysis\n",
    "\n",
    "First, pick your indicator of choice, and the associated array of results. \n",
    "Higher values must be better, so put a minus if needed -- as in `- vulnerability`.\n",
    "Also pick your actor: (0) for Baltimore, (1) for Chester, (2) for the nuclear plant, (3) for the environment (and (4) for flooding if you're curious)."
   ]
  },
  {
   "cell_type": "code",
   "execution_count": null,
   "id": "e63f4576-130c-40a1-b317-e5d1f5994e2b",
   "metadata": {},
   "outputs": [],
   "source": [
    "my_metric = 'Reliability'\n",
    "results = reliability\n",
    "actor = 2\n",
    "actor_names = ['Baltimore', 'Chester', 'Nuclear plant', 'Environmental flows', 'Flooding']"
   ]
  },
  {
   "cell_type": "markdown",
   "id": "6e9d4c8b-220f-4fcf-9563-c3c76265d8bc",
   "metadata": {},
   "source": [
    ">* **Question 3. Given the XLRM given at the beginning of the tutorial, does reliability mean the same thing for Baltimore and other actors?**\n",
    "\n",
    "Let us plot both measures of regret for the chose metric and actor."
   ]
  },
  {
   "cell_type": "code",
   "execution_count": null,
   "id": "6eee8808-d4bf-4e1e-a417-223722d294f4",
   "metadata": {},
   "outputs": [],
   "source": [
    "fig = visuals.plot_regret(array=results[:, :, actor], \n",
    "                          metric_name=my_metric + ', ' + actor_names[actor], \n",
    "                          ref_dim=1, \n",
    "                          lever_list=lever_list, \n",
    "                          scenario_list=scenario_list,\n",
    "                          scenario_label='Flow reduction (%)')"
   ]
  },
  {
   "cell_type": "code",
   "execution_count": null,
   "id": "d390afec-f77e-4e80-be22-ac3bb0268704",
   "metadata": {},
   "outputs": [],
   "source": [
    "fig = visuals.plot_regret(array=results[:, :, actor], \n",
    "                          metric_name=my_metric + ', ' + actor_names[actor], \n",
    "                          ref_dim=0, \n",
    "                          lever_list=lever_list, \n",
    "                          scenario_list=scenario_list,\n",
    "                          scenario_label='Flow reduction (%)')"
   ]
  },
  {
   "cell_type": "markdown",
   "id": "f28b9125-726e-4226-b9f4-19c7cb52fc20",
   "metadata": {},
   "source": [
    ">* **Question 4. Using `reliability` as the metric from which to compute regret, what do we learn about the impact of climate and levers on the different actors?**\n",
    ">  \n",
    ">* **Question 5. If we try and do the regret analysis with `resilience`, `vulnerability`, or `event_rate` (instead of `reliability`), what do we learn?**\n",
    ">  \n",
    ">* **Question 6. What are the limits of this regret analysis?**"
   ]
  },
  {
   "cell_type": "code",
   "execution_count": null,
   "id": "797ae8f4-7a83-4a42-93ae-a1cdc5702477",
   "metadata": {},
   "outputs": [],
   "source": []
  }
 ],
 "metadata": {
  "kernelspec": {
   "display_name": "mac441",
   "language": "python",
   "name": "mac441"
  },
  "language_info": {
   "codemirror_mode": {
    "name": "ipython",
    "version": 3
   },
   "file_extension": ".py",
   "mimetype": "text/x-python",
   "name": "python",
   "nbconvert_exporter": "python",
   "pygments_lexer": "ipython3",
   "version": "3.12.3"
  }
 },
 "nbformat": 4,
 "nbformat_minor": 5
}
