{
 "cells": [
  {
   "cell_type": "code",
   "execution_count": null,
   "metadata": {
    "id": "hoEWhFzkXIIb"
   },
   "outputs": [],
   "source": [
    "import math\n",
    "import pandas as pd\n",
    "import numpy as np\n",
    "from matplotlib import pyplot as plt\n",
    "import datetime\n",
    "from model import setup, visuals, balance_calcs, performance"
   ]
  },
  {
   "cell_type": "markdown",
   "metadata": {
    "id": "vxnCWSSnVQ--"
   },
   "source": [
    "# Part 1: Setting up the Conowingo system model\n",
    "\n",
    "## 1.1 Defining a reservoir \n",
    "\n",
    "First we download the relevant data from the spreadsheet."
   ]
  },
  {
   "cell_type": "code",
   "execution_count": null,
   "metadata": {
    "id": "La0tbh_r410W"
   },
   "outputs": [],
   "source": [
    "# First we download the key data\n",
    "key_parameters = pd.read_excel('data/Conowingo_data.xlsx', sheet_name='Reservoir characteristics')\n",
    "\n",
    "# Access the DataFrame\n",
    "display(key_parameters)"
   ]
  },
  {
   "cell_type": "markdown",
   "metadata": {
    "id": "s1s9HVRy-TgR"
   },
   "source": [
    "As we can see, a reservoir reservoir has many characteristics that need to be represented:\n",
    ">*   How storage volume, surface area and height of water in the reservoir are related. This is important for any use dependent on the height of water in the lake, e.g., hydropower, recreation, but also withdrawing water from the reservoir: water is withdrawn from a physical pipe situated at a certain depth (depth being calculated from the water level when the reservoir lake is full).\n",
    ">*   We need to know what water uses depend on the reservoir.\n",
    "\n",
    "\n",
    "For this, we define a `Reservoir` them as an object in Python. This is why `model/setup.py` declares the class, then associated functions. **Look up the `class Reservoir` part of `model/setup.py` to understand what it does. Use Gemini to help your understanding as needed.**\n",
    "\n",
    "To note:\n",
    ">* A key assumption here is that lake area increases linearly with the height of water in the lake.\n",
    ">* Water balance will track storage volume so basic function convert that into area and height.\n",
    ">* All units converted to **basic metric units (m, m2, m3)**. Let's do this now. "
   ]
  },
  {
   "cell_type": "code",
   "execution_count": null,
   "metadata": {
    "id": "3sUFFv6n-o3i"
   },
   "outputs": [],
   "source": [
    "full_lake_area =  key_parameters.iloc[2, key_parameters.columns.get_loc('Value')] * 100**2\n",
    "full_lake_volume = key_parameters.iloc[1, key_parameters.columns.get_loc('Value')] * 100**3"
   ]
  },
  {
   "cell_type": "markdown",
   "metadata": {
    "id": "j1kjh5sGlzEe"
   },
   "source": [
    "Let us create a reservoir object with specified values."
   ]
  },
  {
   "cell_type": "code",
   "execution_count": null,
   "metadata": {
    "id": "Cc-SRo4imSe-"
   },
   "outputs": [],
   "source": [
    "# Create a reservoir object with the specified values\n",
    "conowingo = setup.Reservoir(\"Conowingo\", full_lake_area, full_lake_volume)\n",
    "\n",
    "# Print characteristics of reservoir object\n",
    "print(conowingo.__dict__)"
   ]
  },
  {
   "cell_type": "code",
   "execution_count": null,
   "metadata": {
    "id": "wR1YA4Au3I0R"
   },
   "outputs": [],
   "source": [
    "# Let us modify the reservoir to reflect actual dead storage\n",
    "conowingo.dead_storage = key_parameters.iloc[0, key_parameters.columns.get_loc('Value')] * 100**3\n",
    "print('Dead storage is now ' + str(int(conowingo.dead_storage  / 100**3)) + 'hm3.')"
   ]
  },
  {
   "cell_type": "markdown",
   "metadata": {},
   "source": [
    ">* We also need to add the demands to the reservoir system, by declaring them using the methods introduced with the Reservoir class.\n",
    ">* Note the Chester, Baltimore and nuclear plant demands are extractions from the reservoir, whereas environmental flows are releases."
   ]
  },
  {
   "cell_type": "code",
   "execution_count": null,
   "metadata": {},
   "outputs": [],
   "source": [
    "conowingo.add_downstream_demand(setup.Demand(name='Environmental'))\n",
    "conowingo.add_on_site_demand(setup.Demand(name='Baltimore'))\n",
    "conowingo.add_on_site_demand(setup.Demand(name='Chester'))\n",
    "conowingo.add_on_site_demand(setup.Demand(name='Nuclear plant'))\n",
    "\n",
    "# Check result\n",
    "print('List of demands directly withdrawing water from the reservoir:')\n",
    "for i in range(len(conowingo.demand_on_site)):\n",
    "    print(str(i+1) + ') ' + conowingo.demand_on_site[i].name)\n",
    "print('\\nList of demands downstream of the reservoir:')\n",
    "for i in range(len(conowingo.demand_downstream)):\n",
    "    print(str(i+1) + ') ' + conowingo.demand_downstream[i].name)"
   ]
  },
  {
   "cell_type": "markdown",
   "metadata": {},
   "source": [
    ">* **Now we have a fully defined system, and we need to add water to it!**\n",
    "\n",
    "## 1.2 Inflow and demand data\n",
    "\n",
    ">* To run the water balance, we need inflow and demand data for our reservoir.\n",
    "\n",
    "Let us first download the inflow data. Note that we make the first column the index."
   ]
  },
  {
   "cell_type": "code",
   "execution_count": null,
   "metadata": {
    "id": "hoWIqyVc8b5A"
   },
   "outputs": [],
   "source": [
    "inflow_data = pd.read_excel('data/Conowingo_data.xlsx', sheet_name='Flow data', index_col=0)\n",
    "display(inflow_data.head(5))"
   ]
  },
  {
   "cell_type": "markdown",
   "metadata": {
    "id": "u3_5pnFa-9iZ"
   },
   "source": [
    ">* Demand data needs to be summed into a **total demand** column, and data needs to be converted to m3 / day. See Tutorial 1 for details.\n",
    ">* Method `extract_flows` in `model/setup.py` will handle this for you.\n",
    "\n",
    "Let us now download the demand data."
   ]
  },
  {
   "cell_type": "code",
   "execution_count": null,
   "metadata": {},
   "outputs": [],
   "source": [
    "demand_data = pd.read_excel('data/Conowingo_data.xlsx', sheet_name='Demands')\n",
    "display(demand_data)"
   ]
  },
  {
   "cell_type": "markdown",
   "metadata": {},
   "source": [
    "Now we need to add these demands to the water balance. Two key things to consider here, \n",
    ">1. Demands need to be expressed for each day over 70 years.\n",
    ">2. We must use SI units!\n",
    "\n",
    ">* Method `extract_flows` in `model/setup.py` will also handle this for you! Therefore, let us now **initialise the water balance**."
   ]
  },
  {
   "cell_type": "code",
   "execution_count": null,
   "metadata": {},
   "outputs": [],
   "source": [
    "water_balance = setup.extract_flows(reservoir=conowingo)\n",
    "\n",
    "display(water_balance)"
   ]
  },
  {
   "cell_type": "markdown",
   "metadata": {},
   "source": [
    "# Part 2: Water balance dynamics\n",
    "\n",
    "## 2.1 Dynamics over a single time step\n",
    "\n",
    "Let us model inflows and releases (see slides 2 and 3 from tutorial slides). In practice, here we assume that:\n",
    "\n",
    "1.   The ecological demand is served first (if possible).\n",
    "2.   Other demands take water directly from the reservoir in the limit of what remains.\n",
    "3.   Then excess water is spilled and added to the releases.\n",
    "\n",
    "**This is called the standard operating policy (SOP) for water supply, where all water that does not meet a demand is kept in the reservoir unless it is full.**\n",
    "\n",
    ">* **Question 1. What happens to the `water_available` variable through the `single_step` method?**\n",
    ">* **Question 2. What is the role of minimum (or dead) storage?**"
   ]
  },
  {
   "cell_type": "code",
   "execution_count": null,
   "metadata": {},
   "outputs": [],
   "source": [
    "def single_step(reservoir, storage_beg, inflows, site_demand, downstream_demand):\n",
    "\n",
    "    '''\n",
    "    Note all in m3.\n",
    "    :param reservoir: Object of the Reservoir class\n",
    "    :param storage_beg: Initial storage at the beginning of the time step (m3)\n",
    "    :param inflows: Inflows over the time step (m3)\n",
    "    :param site_demand: Demand for withdrawal from reservoir over the time step (m3)\n",
    "    :param downstream_demand: Demand for release for downstream use over the time step (m3)\n",
    "    :return: storage_end (end of time step storage, m3)\n",
    "    :return: release (amount of water released over time step, m3)\n",
    "    :return: withdrawals (to meet demand over time step at reservoir, m3)\n",
    "    '''\n",
    "\n",
    "    # Compute water availability, accounting for dead storage (volume units)\n",
    "    water_available = storage_beg - reservoir.dead_storage + inflows\n",
    "\n",
    "    # Release for downstream demand (volumetric rate)\n",
    "    release = np.min([water_available, downstream_demand])\n",
    "\n",
    "    # Update water availability\n",
    "    water_available = water_available - release\n",
    "\n",
    "    # Withdrawals from the reservoir\n",
    "    withdrawals = np.min([water_available, site_demand])\n",
    "\n",
    "   # Update water availability\n",
    "    water_available = water_available - withdrawals\n",
    "\n",
    "    # Check if reservoir is over full\n",
    "    if water_available + reservoir.dead_storage > reservoir.full_lake_volume:\n",
    "        # Lake is full\n",
    "        storage_end = reservoir.full_lake_volume\n",
    "        # Excess storage is spilled\n",
    "        release = release + (water_available + reservoir.dead_storage - reservoir.full_lake_volume)\n",
    "    else:\n",
    "        # Lake is not full so water availability determines new storage\n",
    "        storage_end = water_available + reservoir.dead_storage\n",
    "\n",
    "    return storage_end, release, withdrawals"
   ]
  },
  {
   "cell_type": "markdown",
   "metadata": {},
   "source": [
    "**We can test this function in three cases, (1) not enough water, (2) enough water, (3) too much water.**\n",
    "\n",
    "Note the time step is not specified, so we can test with arbitrary amounts of water and numbers!\n",
    "\n",
    ">* So we call the function and check that the answer is what we would expect!\n",
    ">* **Question 3. Below is a test for case 2 (the easiest), can you do the same for cases 1 and 3?**"
   ]
  },
  {
   "cell_type": "code",
   "execution_count": null,
   "metadata": {},
   "outputs": [],
   "source": [
    "# Inputs\n",
    "storage_beg=0.8*conowingo.full_lake_volume\n",
    "inflows=0.2*conowingo.full_lake_volume\n",
    "site_demand=0.1*conowingo.full_lake_volume\n",
    "downstream_demand=0.2*conowingo.full_lake_volume\n",
    "\n",
    "# Call the function\n",
    "x = single_step(conowingo, storage_beg, inflows, site_demand, downstream_demand)\n",
    "\n",
    "# Examine results\n",
    "print('At the end of the time step, reservoir is ' + str(int(x[0] / conowingo.full_lake_volume*100)) + '% full.')\n",
    "print('At the end of the time step, releases meet ' + str(int(x[1] / downstream_demand * 100)) + '% of downstream demand.')\n",
    "print('These releases correspond to '+ str(int(x[1] / conowingo.full_lake_volume*100)) + '% of total storage volume.')\n",
    "print('At the end of the time step, withdrawals directly from the reservoir meet ' + str(int(x[2] / site_demand * 100)) + '% of demand.')\n",
    "print('These withdrawals correspond to '+ str(int(x[2] / conowingo.full_lake_volume*100)) + '% of total storage volume.')"
   ]
  },
  {
   "cell_type": "markdown",
   "metadata": {
    "id": "8CjlfcTOluaD"
   },
   "source": [
    "## 2.2 Water balance dynamics over time\n",
    "\n",
    "This is a loop on days during the time frame of the simulation. At the heart is the one-step water balance.\n",
    "**Mind the units: everything needs to be expressed in the same units (volume is easiest).**\n",
    "\n",
    "This function has three main phases, and **you do not need to understand all the details here**:\n",
    "1. A preparation phase where quantities are defined, and pandas DataFrames are put in a format that favours faster computation (numpy arrays).\n",
    "2. A main loop using the single-step water balance function.\n",
    "3. Resulting numpy vectors are written into the water balance DataFrame.\n",
    "\n",
    ">* **Question 4. Can you spot the loop?**"
   ]
  },
  {
   "cell_type": "code",
   "execution_count": null,
   "metadata": {
    "id": "Q19pdvdDx6zw"
   },
   "outputs": [],
   "source": [
    "def basic_water_balance(reservoir, water_flows):\n",
    "\n",
    "  '''\n",
    "  This function performs the water balance. Arguments are:\n",
    "        reservoir: an instance of the Reservoir class\n",
    "        water_flows: a pandas DataFrame that must contain inflows and demands.\n",
    "  The function returns an updated water_flows DataFrame.\n",
    "  '''\n",
    "\n",
    "  # Local variable: number of time steps\n",
    "  t_total = len(water_flows)\n",
    "\n",
    "  # Local variable: number of seconds in a day\n",
    "  n_sec = 86400\n",
    "\n",
    "  # For computing efficiency: convert flows to numpy arrays outside of time loop\n",
    "\n",
    "  # Inflows (in m3)\n",
    "  inflows = water_flows['Total inflows (m3/s)'].to_numpy() * n_sec\n",
    "\n",
    "  # Total downstream demand (in m3)\n",
    "  downstream_demands = np.zeros(len(water_flows))\n",
    "  for i in range(len(reservoir.demand_downstream)):\n",
    "      # Get column with that demand\n",
    "      demand_col = ([col for col in water_flows.columns if reservoir.demand_downstream[i].name in col])\n",
    "      # Add this demand to total demand\n",
    "      downstream_demands = downstream_demands + water_flows.loc[:, demand_col[0]].to_numpy()\n",
    "  downstream_demands = downstream_demands * n_sec  # conversion to m3\n",
    "\n",
    "  # Total at-site demands (in m3)\n",
    "  at_site_demands = np.zeros(len(water_flows))\n",
    "  for i in range(len(reservoir.demand_on_site)):\n",
    "     # Get column with that demand\n",
    "     demand_col = ([col for col in water_flows.columns if reservoir.demand_on_site[i].name in col])\n",
    "     at_site_demands = at_site_demands + water_flows.loc[water_flows.index, demand_col[0]].to_numpy()\n",
    "  at_site_demands = at_site_demands * n_sec  # conversion to m3\n",
    "\n",
    "  # Initialise outputs\n",
    "  # Storage needs to account for initial storage\n",
    "  storage = np.zeros(t_total + 1)\n",
    "  storage[0] = reservoir.initial_storage\n",
    "  # Initialise at-site withdrawals and release as water balance components\n",
    "  withdrawals = np.zeros(t_total)\n",
    "  release = np.zeros(t_total)\n",
    "\n",
    "  # Main loop\n",
    "  for t in range(t_total):\n",
    "\n",
    "    wb_out = single_step(reservoir, storage[t], inflows[t], at_site_demands[t], downstream_demands[t])\n",
    "    storage[t+1] = wb_out[0]\n",
    "    release[t] = wb_out[1]\n",
    "    withdrawals[t] = wb_out[2]\n",
    "\n",
    "  # Insert data into water balance (mind the flow rates conversions back into m3/s)\n",
    "  water_flows['Withdrawals (m3/s)'] = withdrawals / n_sec\n",
    "  water_flows['Release (m3/s)'] = release / n_sec\n",
    "  water_flows['Storage (m3)'] = storage[1:]\n",
    "\n",
    "  return water_flows\n"
   ]
  },
  {
   "cell_type": "markdown",
   "metadata": {
    "id": "wkp2AVaMTYbe"
   },
   "source": [
    "Now we call this water balance function for our case-study!"
   ]
  },
  {
   "cell_type": "code",
   "execution_count": null,
   "metadata": {
    "id": "pWhduPJbTda5"
   },
   "outputs": [],
   "source": [
    "basic_water_balance(conowingo, water_balance)"
   ]
  },
  {
   "cell_type": "markdown",
   "metadata": {
    "id": "sIMwtZd0T3Hf"
   },
   "source": [
    "As in Tutorial 1, we can visualise results. Let us plot reservoir storage over time using a method from file `src/visuals.py`."
   ]
  },
  {
   "cell_type": "code",
   "execution_count": null,
   "metadata": {},
   "outputs": [],
   "source": [
    "fig =visuals.storage_timeseries(reservoir=conowingo,\n",
    "                                balance=water_balance)"
   ]
  },
  {
   "cell_type": "markdown",
   "metadata": {},
   "source": [
    ">* **Question 5. What do you notice about storage: overall level, any dry period?**\n",
    "\n",
    "We can zoom in on any period of interest, for instance in the 1960s."
   ]
  },
  {
   "cell_type": "code",
   "execution_count": null,
   "metadata": {
    "id": "KmO2iSQXnaJV"
   },
   "outputs": [],
   "source": [
    "fig =visuals.storage_timeseries(reservoir=conowingo,\n",
    "                                balance=water_balance,\n",
    "                                first_date=datetime.date(1962,1,1),\n",
    "                                last_date=datetime.date(1968,1,1)\n",
    "                               )"
   ]
  },
  {
   "cell_type": "code",
   "execution_count": null,
   "metadata": {},
   "outputs": [],
   "source": [
    "# What happens to inflows and release during that period?\n",
    "fig = visuals.compare_flow_timeseries(reference=water_balance['Total inflows (m3/s)'],\n",
    "                                      alternative=water_balance['Release (m3/s)'],\n",
    "                                      labels=['Inflows', 'Release'],\n",
    "                                      y_axis_label='Flow (m3/s)',\n",
    "                                      first_date=datetime.date(1962,1,1),\n",
    "                                      last_date=datetime.date(1968,1,1))                                "
   ]
  },
  {
   "cell_type": "code",
   "execution_count": null,
   "metadata": {},
   "outputs": [],
   "source": [
    "# And what about the withdrawals from the reservoir?\n",
    "fig = visuals.flow_timeseries(time_series=water_balance['Withdrawals (m3/s)'],\n",
    "                              first_date=datetime.date(1962,1,1),\n",
    "                              last_date=datetime.date(1968,1,1)) "
   ]
  },
  {
   "cell_type": "markdown",
   "metadata": {
    "id": "MZDEvRcBr5oU"
   },
   "source": [
    "Some questions to better understand the water balance dynamics:\n",
    "\n",
    ">* **Question 6. From the above figures and the water balance, when are withdrawals less than the demand?**\n",
    ">* **Question 7. Are the withdrawals large compared with the average inflows?**\n",
    ">* **Question 8. Can this reservoir store water from the wet season for the dry season?**\n"
   ]
  },
  {
   "cell_type": "code",
   "execution_count": null,
   "metadata": {
    "id": "bsnhBOGdnurg"
   },
   "outputs": [],
   "source": [
    "# Let's save these withdrawals for future reference\n",
    "basic_withdrawals = pd.Series(water_balance['Withdrawals (m3/s)'])"
   ]
  },
  {
   "cell_type": "markdown",
   "metadata": {
    "id": "DlZZXk1Zd2gr"
   },
   "source": [
    "# Part 3: More realistic water balance dynamics\n",
    "\n",
    ">* Now we represent the fact that each withdrawal from the reservoir is at a given intake height (see the reservoir's key characteristics, as well as **tutorial slide 4**).\n",
    ">* We need to **re-initiatlise the demands** from the reservoirs to add the intake heights to the demands."
   ]
  },
  {
   "cell_type": "code",
   "execution_count": null,
   "metadata": {
    "id": "Cjy3MF6lfrwm"
   },
   "outputs": [],
   "source": [
    "# Re-initialise\n",
    "conowingo.demand_downstream = []\n",
    "conowingo.demand_on_site = []\n",
    "\n",
    "# Add demands using Demand objects\n",
    "conowingo.add_downstream_demand(setup.Demand('Environmental'))\n",
    "conowingo.add_on_site_demand(setup.Demand('Baltimore', key_parameters.iloc[6, 1]))\n",
    "conowingo.add_on_site_demand(setup.Demand('Chester', key_parameters.iloc[7, 1]))\n",
    "conowingo.add_on_site_demand(setup.Demand('Nuclear plant', key_parameters.iloc[8, 1]))"
   ]
  },
  {
   "cell_type": "markdown",
   "metadata": {
    "id": "vqwDZQ1phQYc"
   },
   "source": [
    "We also need to remove **the results of the previous water balance**, i.e., columns for withdrawals, release, storage, from the water balance DataFrame."
   ]
  },
  {
   "cell_type": "code",
   "execution_count": null,
   "metadata": {
    "id": "FnXCh5eohxJN"
   },
   "outputs": [],
   "source": [
    "water_balance.drop(['Release (m3/s)', 'Withdrawals (m3/s)', 'Storage (m3)'], axis=1, inplace=True)\n",
    "\n",
    "# list the remaining columns\n",
    "print(water_balance.columns)"
   ]
  },
  {
   "cell_type": "markdown",
   "metadata": {
    "id": "bLsB8ZdPg_hl"
   },
   "source": [
    "**And that is going to change how we conduct the water balance!** Let us update it:"
   ]
  },
  {
   "cell_type": "code",
   "execution_count": null,
   "metadata": {},
   "outputs": [],
   "source": [
    "water_balance = balance_calcs.sop_full(reservoir=conowingo,\n",
    "                                       water_flows=water_balance)\n",
    "\n",
    "display(water_balance)"
   ]
  },
  {
   "cell_type": "markdown",
   "metadata": {},
   "source": [
    ">* **Question 9. How is the water balance conducted differently when accounting for intake depth?**\n",
    "\n",
    "Hint: to help to answer this question, I recommed you feed to Google Gemini the single-step water balance without intakes (method `single_step` above) and the one with intakes (method `sop_single_step` from `model/balance_calcs.py`), and ask it to compare the two methods. **Asking AI to spot differences between documents and explain them is a good professional skill to have.**"
   ]
  },
  {
   "cell_type": "code",
   "execution_count": null,
   "metadata": {
    "id": "dpIaAj7HnjXU"
   },
   "outputs": [],
   "source": [
    "# How does this greater level of realism affect withdrawals from the reservoir?\n",
    "fig = visuals.compare_flow_timeseries(reference=basic_withdrawals,\n",
    "                                      alternative=water_balance['Withdrawals Baltimore (m3/s)'] + water_balance['Withdrawals Chester (m3/s)'] + water_balance['Withdrawals Nuclear plant (m3/s)'],\n",
    "                                      labels=['No intake', 'With intakes'],\n",
    "                                      y_axis_label='Total withdrawals (m3/s)',\n",
    "                                      first_date=datetime.date(1962,1,1),\n",
    "                                      last_date=datetime.date(1968,1,1))"
   ]
  },
  {
   "cell_type": "markdown",
   "metadata": {
    "id": "vmw2BYk8rX0B"
   },
   "source": [
    ">* **Question 10. Did withdrawals increase or decrease when we accounted for intake depth, and why?**"
   ]
  },
  {
   "cell_type": "markdown",
   "metadata": {},
   "source": [
    "# Part 4: Perfromance metrics\n",
    "\n",
    "Management objectives are as follows:\n",
    "1) Produce hydropower\n",
    "2) Meet environmental flows\n",
    "3) Meet domestic and industrial demands\n",
    "4) Avoid excessive flooding that would require evacuating the downstream town of “Port Deposit” (15,000 m3/s)\n",
    "\n",
    "First, we will explore objective (1), and we will then focus on the other objectives. For these objectives, we will compare the water flows / levels versus a threshold, and use the R-R-V indicators defined in the lecture (reliability / resilience / vulnerability).\n",
    "\n",
    "\n",
    "## 4.1 - Hydropower\n",
    "\n",
    "For Conowingo Dam, key parameters of the hydropower plant can be found in the **\"Reservoir characteristics\"** part of the spreadsheet."
   ]
  },
  {
   "cell_type": "code",
   "execution_count": null,
   "metadata": {},
   "outputs": [],
   "source": [
    "# Define hydropower plant characteristics from file\n",
    "nominal_head = key_parameters.iloc[3, key_parameters.columns.get_loc('Value')]\n",
    "installed_capacity = key_parameters.iloc[4, key_parameters.columns.get_loc('Value')]\n",
    "max_release = key_parameters.iloc[5, key_parameters.columns.get_loc('Value')]\n",
    "conowingo.hydropower_plant = setup.Hydropower(installed_capacity, nominal_head, max_release)"
   ]
  },
  {
   "cell_type": "code",
   "execution_count": null,
   "metadata": {},
   "outputs": [],
   "source": [
    "# Compute daily hydropower \n",
    "hydropower_daily = conowingo.daily_production(water_balance)"
   ]
  },
  {
   "cell_type": "code",
   "execution_count": null,
   "metadata": {},
   "outputs": [],
   "source": [
    "# First the headline number: average over 70 years (GWh)\n",
    "print('Annual average hydropower production at Conowingo is ' + \"{:.0f}\".format(hydropower_daily.sum() / 70 / 1000) + ' GWh')"
   ]
  },
  {
   "cell_type": "code",
   "execution_count": null,
   "metadata": {},
   "outputs": [],
   "source": [
    "# Now plot it\n",
    "fig = visuals.flow_timeseries(time_series=hydropower_daily) "
   ]
  },
  {
   "cell_type": "markdown",
   "metadata": {},
   "source": [
    "This is **not** a very helpful visual, and aggregation to annual data will certainly be helpful."
   ]
  },
  {
   "cell_type": "code",
   "execution_count": null,
   "metadata": {},
   "outputs": [],
   "source": [
    "fig = visuals.annual_average(daily_data=hydropower_daily,\n",
    "                             data_label=hydropower_daily.name)            "
   ]
  },
  {
   "cell_type": "code",
   "execution_count": null,
   "metadata": {},
   "outputs": [],
   "source": [
    "# let us compare with annual average flows.\n",
    "fig = visuals.annual_average(daily_data=pd.Series(water_balance['Total inflows (m3/s)']) * 86400/1E9, \n",
    "                             data_label='total inflow ($km^3$)')"
   ]
  },
  {
   "cell_type": "markdown",
   "metadata": {},
   "source": [
    ">* **Question 11. What can we say about the correlation between inflows and hydropower production?**\n",
    "\n",
    "\n",
    "## 4.2 - R-R-V indicators for demand\n",
    "\n",
    "Let us now introduce a function to compute the R-R-V performance metrics introduced in the lecture."
   ]
  },
  {
   "cell_type": "code",
   "execution_count": null,
   "metadata": {},
   "outputs": [],
   "source": [
    "# Application to all four Conowingo demands\n",
    "metrics = pd.concat([performance.rrv_indicators(time_series=water_balance['Withdrawals Baltimore (m3/s)'].to_numpy(), \n",
    "                                                dynamic_threshold=water_balance['Baltimore demand (m3/s)'].to_numpy(), \n",
    "                                                above_desirable=True, \n",
    "                                                name='Baltimore'),\n",
    "                     performance.rrv_indicators(water_balance['Withdrawals Chester (m3/s)'].to_numpy(), \n",
    "                                                water_balance['Chester demand (m3/s)'].to_numpy(), True, 'Chester'),\n",
    "                     performance.rrv_indicators(water_balance['Withdrawals Nuclear plant (m3/s)'].to_numpy(), \n",
    "                                                water_balance['Nuclear plant demand (m3/s)'].to_numpy(), True, 'Nuclear'),\n",
    "                     performance.rrv_indicators(water_balance['Release (m3/s)'].to_numpy(), \n",
    "                                                water_balance['Environmental demand (m3/s)'].to_numpy(), True, 'Env. flows')],\n",
    "                     axis=0, ignore_index=True)\n",
    "\n",
    "print('Performance metrics for demands are:\\n')\n",
    "display(metrics)"
   ]
  },
  {
   "cell_type": "code",
   "execution_count": null,
   "metadata": {},
   "outputs": [],
   "source": [
    "# Compare with the water balance without modelling the intakes\n",
    "withdrawal_demand = water_balance['Baltimore demand (m3/s)'] + water_balance['Chester demand (m3/s)'] + water_balance['Nuclear plant demand (m3/s)']\n",
    "no_intake_metrics = pd.concat([performance.rrv_indicators(time_series=basic_withdrawals.to_numpy(), \n",
    "                                                          dynamic_threshold=withdrawal_demand.to_numpy(),\n",
    "                                                          above_desirable=True,\n",
    "                                                          name='Withdrawals'),\n",
    "                               performance.rrv_indicators(water_balance['Release (m3/s)'].to_numpy(), \n",
    "                                                          water_balance['Environmental demand (m3/s)'].to_numpy(), True, 'Env. flows')],\n",
    "                              axis=0, ignore_index=True)\n",
    "\n",
    "print('Without intakes, performance metrics would be:\\n')\n",
    "display(no_intake_metrics)"
   ]
  },
  {
   "cell_type": "markdown",
   "metadata": {},
   "source": [
    ">* **Question 12. Do results confirm previous observations on the need to model intakes?**\n",
    ">* **Question 13. Here we measure vulnerability as a percentage of demand not met. Why?**\n",
    "\n",
    "## 4.3 - Flooding"
   ]
  },
  {
   "cell_type": "code",
   "execution_count": null,
   "metadata": {},
   "outputs": [],
   "source": [
    "# Same for flooding\n",
    "flooding_metrics = performance.rrv_indicators(time_series=water_balance['Release (m3/s)'].to_numpy(), \n",
    "                                              dynamic_threshold=15000*np.ones(len(water_balance)), \n",
    "                                              above_desirable=False, \n",
    "                                              name='Flooding')\n",
    "\n",
    "metrics = pd.concat([metrics, flooding_metrics], axis=0, ignore_index=True)\n",
    "\n",
    "print('Performance metrics including demands and flooding are:\\n')\n",
    "display(metrics)"
   ]
  },
  {
   "cell_type": "markdown",
   "metadata": {},
   "source": [
    ">* **Question 14. Compute how long it takes a flood at the flooding threshold to completely fill Conowingo, and use this to comment on the reliability, resilience and vulnerability for the flooding objective. In particular, can we use different operating policies to avoid flooding the town downstream of Conowingo (Port Deposit)?**\n",
    "\n",
    ">* **Question 15. Which objectives do you feel the chosen operating policy favours? Why?**"
   ]
  }
 ],
 "metadata": {
  "colab": {
   "provenance": []
  },
  "kernelspec": {
   "display_name": "mac441",
   "language": "python",
   "name": "mac441"
  },
  "language_info": {
   "codemirror_mode": {
    "name": "ipython",
    "version": 3
   },
   "file_extension": ".py",
   "mimetype": "text/x-python",
   "name": "python",
   "nbconvert_exporter": "python",
   "pygments_lexer": "ipython3",
   "version": "3.12.3"
  }
 },
 "nbformat": 4,
 "nbformat_minor": 4
}
