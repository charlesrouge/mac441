{
 "cells": [
  {
   "cell_type": "markdown",
   "id": "d5e3ae06",
   "metadata": {},
   "source": [
    "# Imports\n",
    "\n",
    "Let us first call the Python libraries needed here, and upload the needed data and code."
   ]
  },
  {
   "cell_type": "code",
   "execution_count": null,
   "id": "df53f00a",
   "metadata": {},
   "outputs": [],
   "source": [
    "# In case: install missing package(s)\n",
    "# !pip install rhodium \n",
    "\n",
    "# Imports\n",
    "import rhodium\n",
    "import copy\n",
    "import pandas as pd\n",
    "import numpy as np\n",
    "import matplotlib.pyplot as plt\n",
    "from model import setup, balance_calcs, performance"
   ]
  },
  {
   "cell_type": "markdown",
   "id": "9f8a6ea7",
   "metadata": {},
   "source": [
    "# Introduction\n",
    "\n",
    "In this part we will use what we learned from the lake problem to run NSGA-2 with our Conowingo Dam case. Learning to apply a software tool demonstrated in a situation A to the situation B we are interested in is a key engineering skill in today’s world.\n",
    "\n",
    "The goal here is not to carry out a sophisticated trade-off analysis for the Conowingo Dam, but rather to make sure we know how to run an MOEA with the model we are building. This is why we are focusing on a simple case.\n",
    "\n",
    "We want to have a policy that restricts withdrawals from the City of Baltimore by a given fraction below a given lake level. We assume that when the restriction kicks in, the city has an alternative water source to ensure continuous supply. We are also interested in lowering the intake level for the nuclear plant.\n",
    "\n",
    "Decision variables are:\n",
    "\n",
    "1. The fraction reduction in withdrawals from Baltimore (`reduction`, on a 0-1 range)\n",
    "3. The depth at which this happens (`reduction_depth`)\n",
    "4. The depth of the new intake at the nuclear plant (`lower_intake-depth`).\n",
    "\n",
    "In this tutorial, let us keep objectives simple and have three:\n",
    "\n",
    "1. Baltimore volumetric reliability (so different values of “reduction” are reflected differently)\n",
    "2. Reliability of Peach Bottom nuclear plant (we know that’s the same as volumetric reliability: at the nuclear plant when there’s a shortage it’s because the water level is below the intake: then the shortage is 100%).\n",
    "3. Reliability for the other user with an intake from the reservoir: Chester water supply. How do the proposed policies impact Chester?"
   ]
  },
  {
   "cell_type": "markdown",
   "id": "8952c351",
   "metadata": {},
   "source": [
    "# Part 1: Preparation\n",
    "\n",
    "In this tutorial we build on the model we developed in previous tutorials. In particular we'll use method `setup.define_reservoir` to do the heavy lifting of defining the reservoir.\n",
    "\n",
    "Note that because of the way the problem is defined in Rhodium, we need an untouched initial copy of the reservoir (here `conowingo_default`)."
   ]
  },
  {
   "cell_type": "code",
   "execution_count": null,
   "id": "0df79961",
   "metadata": {},
   "outputs": [],
   "source": [
    "# Preparing the model\n",
    "reservoir_name = 'Conowingo'\n",
    "downstream_demand_names = ['Environmental']\n",
    "direct_demand_names = ['Baltimore', 'Chester', 'Nuclear plant']\n",
    "\n",
    "# Loading the model!\n",
    "conowingo_default = setup.define_reservoir(reservoir_name, downstream_demand_names, direct_demand_names)\n",
    "\n",
    "# Read flow and demand data. We keep this copy of the data for the simulation of different futures.\n",
    "flows_default = setup.extract_flows(reservoir=conowingo_default)"
   ]
  },
  {
   "cell_type": "markdown",
   "id": "b551fbfa",
   "metadata": {},
   "source": [
    "Now we define the planning problem as a function that relates design decisions to performance. Note that here we only simulate the system for 6 years (the driest period) to make it shorter during the tutorial."
   ]
  },
  {
   "cell_type": "code",
   "execution_count": null,
   "id": "2adf06de",
   "metadata": {},
   "outputs": [],
   "source": [
    "def planning_problem(reduction, reduction_depth, lower_intake_depth):\n",
    "    \"\"\"\n",
    "    This function computes desired performance metrics for the decisions given in arguments.\n",
    "\n",
    "    Arguments:\n",
    "    reduction: float on [0, 1] range, the reduction in Baltimore water use \n",
    "    reduction_depth: float (in m) the amount of water the reservoir can get lower before the restriction kicks in.\n",
    "                This is a regulation.\n",
    "    lower_intake: build a new intake for the nuclear plant, at greater depth\n",
    "\n",
    "    Note that the Reservoir class object and flows pandas DataFrame that are copied are implicit arguments here.\n",
    "\n",
    "    Outputs are the Baltimore volumetric reliability, nuclear plant reliability, and Chester water supply reliability.\n",
    "\n",
    "    Note we are focusing on the few dry years in the 1960s to make runtime shorter.\n",
    "    \"\"\"\n",
    "\n",
    "    # Get copies of the data so that there is an untouched original copy\n",
    "    time_mask = (flows_default.index.year > 1961) & (flows_default.index.year < 1968)\n",
    "    water_balance = flows_default.iloc[time_mask, :].copy()\n",
    "    reservoir = copy.deepcopy(conowingo_default)\n",
    "\n",
    "    # Define the reduction that kicks in like a new demand\n",
    "    reservoir.add_on_site_demand(setup.Demand('Baltimore 2', reduction_depth))\n",
    "\n",
    "    # Split Baltimore demand into two: the fraction immune to reductions and the one hit by it.\n",
    "    total_baltimore_demand = water_balance.sum(axis=0)['Baltimore demand (m3/s)']\n",
    "    water_balance['Baltimore 2 demand (m3/s)'] = water_balance['Baltimore demand (m3/s)'] * reduction\n",
    "    water_balance['Baltimore demand (m3/s)'] = water_balance['Baltimore demand (m3/s)'] * (1-reduction)\n",
    "\n",
    "    # Lower the intake for the nuclear plant\n",
    "    reservoir.demand_on_site[2].intake_depth = lower_intake_depth\n",
    "\n",
    "    # Computing the water balance for our standard operating policy (SOP)\n",
    "    balance_calcs.sop_full(reservoir=reservoir, water_flows=water_balance)\n",
    "\n",
    "    # We compute performance indicators\n",
    "    # Baltimore volumetric reliability\n",
    "    total_baltimore_withdrawals = water_balance.sum(axis=0)['Withdrawals Baltimore (m3/s)'] + water_balance.sum(axis=0)['Withdrawals Baltimore 2 (m3/s)']\n",
    "    baltimore_vol_rel = total_baltimore_withdrawals / total_baltimore_demand\n",
    "    # Nuclear plant reliability\n",
    "    nuclear_rel = performance.reliability(water_balance['Withdrawals Nuclear plant (m3/s)'], water_balance['Nuclear plant demand (m3/s)'], True)\n",
    "    # Chester reliability\n",
    "    chester_rel = performance.reliability(water_balance['Withdrawals Chester (m3/s)'], water_balance['Chester demand (m3/s)'], True)\n",
    "\n",
    "    return baltimore_vol_rel, nuclear_rel, chester_rel"
   ]
  },
  {
   "cell_type": "code",
   "execution_count": null,
   "id": "fa7c2572",
   "metadata": {},
   "outputs": [],
   "source": [
    "# Note what happens when we call the function\n",
    "default_perf = planning_problem(0, 0, conowingo_default.demand_on_site[2].intake_depth)\n",
    "print('Without intervention, in 1962-1967 Baltimore volumetric reliability is ' + \"{:.2f}\".format(default_perf[0]) + ',')\n",
    "print('the nuclear plant reliability is ' + \"{:.2f}\".format(default_perf[1]) + ',')\n",
    "print('and water supply reliability for Chester is ' + \"{:.2f}\".format(default_perf[2]) + '.')"
   ]
  },
  {
   "cell_type": "markdown",
   "id": "29398836-67b7-454d-bea0-4f5fc0faa204",
   "metadata": {},
   "source": [
    "# Part 2: Running Rhodium\n",
    "\n",
    "Note how we are adapting the Rhodium tutorial code to our problem. We define:\n",
    "* The model.\n",
    "* Parameters which here coincide with the decisions (a.k.a levers).\n",
    "* Responses which are the performance metrics, and how we minimise or maximise them."
   ]
  },
  {
   "cell_type": "code",
   "execution_count": null,
   "id": "0c99a3a7",
   "metadata": {},
   "outputs": [],
   "source": [
    "# Let us now define the model for the Rhodium library\n",
    "conowingo_model = rhodium.Model(planning_problem)\n",
    "\n",
    "conowingo_model.parameters = [rhodium.Parameter('reduction'),\n",
    "                              rhodium.Parameter('reduction_depth'),\n",
    "                              rhodium.Parameter('lower_intake_depth')]\n",
    "\n",
    "conowingo_model.levers = [rhodium.RealLever('reduction', 0.0, 0.5),\n",
    "                          rhodium.RealLever('reduction_depth', 0.0, conowingo_default.demand_on_site[0].intake_depth), \n",
    "                          rhodium.RealLever('lower_intake_depth', conowingo_default.demand_on_site[2].intake_depth, \n",
    "                                               conowingo_default.demand_on_site[0].intake_depth)]  # Intake lower than before, no lower than Baltimore intake\n",
    "\n",
    "conowingo_model.responses = [rhodium.Response('baltimore_vol_rel', rhodium.Response.MAXIMIZE),\n",
    "                             rhodium.Response('nuclear_rel', rhodium.Response.MAXIMIZE),\n",
    "                             rhodium.Response('chester_rel', rhodium.Response.MAXIMIZE)]"
   ]
  },
  {
   "cell_type": "code",
   "execution_count": null,
   "id": "cb277027",
   "metadata": {},
   "outputs": [],
   "source": [
    "output = rhodium.optimize(conowingo_model, 'NSGAII', 2000)\n",
    "print(\"Found\", len(output), \"optimal policies!\")"
   ]
  },
  {
   "cell_type": "code",
   "execution_count": null,
   "id": "5a4549fb",
   "metadata": {},
   "outputs": [],
   "source": [
    "print(output)"
   ]
  },
  {
   "cell_type": "markdown",
   "id": "20f45983-cacb-43d4-9f25-b4c632f4f36c",
   "metadata": {},
   "source": [
    "# Part 3: Visualising results\n",
    "\n",
    "We have a list of Pareto front solutions, with decision variables and the metrics they lead to. We can plot them using examples from the lake problem."
   ]
  },
  {
   "cell_type": "code",
   "execution_count": null,
   "id": "8703f7a1",
   "metadata": {},
   "outputs": [],
   "source": [
    "# Figures that look fancy in one place sometimes are not so easy to reproduce somewhere else.\n",
    "# But as long as the errors don't prevent the plotting.\n",
    "fig = rhodium.parallel_coordinates(conowingo_model, output, brush=[rhodium.Brush(\"nuclear_rel > 0.9\"), rhodium.Brush(\"nuclear_rel <= 0.9\")])"
   ]
  },
  {
   "cell_type": "code",
   "execution_count": null,
   "id": "6643e6b3-9f85-4868-b33c-a1e9ee943a1e",
   "metadata": {},
   "outputs": [],
   "source": [
    "fig = rhodium.scatter2d(conowingo_model, output, c='chester_rel')"
   ]
  },
  {
   "cell_type": "markdown",
   "id": "e2734eae-79a5-48e6-87ad-d456d045d334",
   "metadata": {},
   "source": [
    "**Rhodium examples only look at optimization objectives! What if we want to relate them to decision variables.**"
   ]
  },
  {
   "cell_type": "code",
   "execution_count": null,
   "id": "5bfd3b4e",
   "metadata": {},
   "outputs": [],
   "source": [
    "# We can save the output in DataFrame format\n",
    "output_df = output.as_dataframe()\n",
    "display(output_df)"
   ]
  },
  {
   "cell_type": "code",
   "execution_count": null,
   "id": "35878a40-47a4-42d7-b031-60893a9f943c",
   "metadata": {},
   "outputs": [],
   "source": [
    "plt.scatter(output_df['reduction_depth'], output_df['baltimore_vol_rel'])\n",
    "plt.xlabel('Depth triggering reduction (m)')\n",
    "plt.ylabel('Baltimore volumetric reliability')"
   ]
  },
  {
   "cell_type": "code",
   "execution_count": null,
   "id": "09def925-bda4-4178-ad20-693ac26706f1",
   "metadata": {},
   "outputs": [],
   "source": [
    "plt.scatter(output_df['reduction'], output_df['baltimore_vol_rel'])\n",
    "plt.xlabel('Reduction coefficient')\n",
    "plt.ylabel('Baltimore volumetric reliability')"
   ]
  },
  {
   "cell_type": "code",
   "execution_count": null,
   "id": "8166149b-85b6-41af-b21c-ae6608013b3b",
   "metadata": {},
   "outputs": [],
   "source": [
    "plt.scatter(output_df['lower_intake_depth'], output_df['baltimore_vol_rel'])\n",
    "plt.xlabel('New nuclear plant intake depth (m)')\n",
    "plt.ylabel('Baltimore volumetric reliability')"
   ]
  },
  {
   "cell_type": "code",
   "execution_count": null,
   "id": "bd46d1f6",
   "metadata": {},
   "outputs": [],
   "source": [
    "plt.scatter(output_df['lower_intake_depth'], output_df['nuclear_rel'])\n",
    "plt.xlabel('New nuclear plant intake depth (m)')\n",
    "plt.ylabel('Nuclear plant water supply reliability')"
   ]
  },
  {
   "cell_type": "markdown",
   "id": "73ae0247",
   "metadata": {},
   "source": [
    ">* **Question 1. What do we learn about the trade-offs between the different demands?**\n",
    ">* **Question 2. What do we learn about how design choices affect performance?**"
   ]
  },
  {
   "cell_type": "code",
   "execution_count": null,
   "id": "d3e312d3-2016-4270-840d-c67f96fdd587",
   "metadata": {},
   "outputs": [],
   "source": []
  }
 ],
 "metadata": {
  "kernelspec": {
   "display_name": "mac441",
   "language": "python",
   "name": "mac441"
  },
  "language_info": {
   "codemirror_mode": {
    "name": "ipython",
    "version": 3
   },
   "file_extension": ".py",
   "mimetype": "text/x-python",
   "name": "python",
   "nbconvert_exporter": "python",
   "pygments_lexer": "ipython3",
   "version": "3.12.3"
  }
 },
 "nbformat": 4,
 "nbformat_minor": 5
}
