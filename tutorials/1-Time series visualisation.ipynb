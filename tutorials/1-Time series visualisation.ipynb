{
 "cells": [
  {
   "cell_type": "markdown",
   "metadata": {},
   "source": [
    "# Time series analysis and visualisation\n",
    "\n",
    "Water resource infrastructure (and drainage infrastructure) deals with water inflows and uses that vary over time. To design infrastructure and / or adaptation measures, a first step is to use time series to assess the variations of key water variables over time: this is necessary to assess their performance.\n",
    "\n",
    "In this tutorial we have a first look at the data from the Conowingo case-study:\n",
    "\n",
    "**Part 1:** We unpack the monthly demand data and use that as an introduction to the Pandas library. This is Excel in Python!\n",
    "\n",
    "**Part 2:** We visualise the variable inflows to the Conowingo reservoir and contrast this with demand.\n",
    "\n",
    "**Part 3:** An exercise to reproduce some of the results from Part 2 using Gemini."
   ]
  },
  {
   "cell_type": "markdown",
   "metadata": {},
   "source": [
    "# Part 1: Data Analysis using Pandas\n",
    "\n",
    "In this part we will look at the demand data from Conowingo. These demands are also listed on the reservoir's schematic.\n",
    "\n",
    "First, we need to import any library we want to use!"
   ]
  },
  {
   "cell_type": "code",
   "execution_count": 1,
   "metadata": {},
   "outputs": [],
   "source": [
    "import pandas as pd"
   ]
  },
  {
   "cell_type": "markdown",
   "metadata": {},
   "source": [
    "### What is Pandas?\n",
    ">* Pandas is an **extremely popular library** for data analysis. You can generally think of it as an **Excel replacement**.\n",
    ">* Like Excel, it reads tabular data and provides a **full toolbox** to manipulate and analyse it.\n",
    ">* It is able to **read data from most common file types**: Excel, CXV, Text, etc.\n",
    ">* Even better, **it can write tables back into these formats**.\n",
    ">* It is practical for **time series analysis**, as it provides hands-on tools for dealing with dates/time and missing data\n",
    "\n",
    "### Why use Pandas?\n",
    ">* As **datasets are becoming bigger and more complex**, tools such as pandas are becoming increasingly essential.\n",
    ">* Anlysis using Python and Pandas is generally **more transparent and easier to follow** than that done in speadsheets.\n",
    ">* Contrary to Excel, it makes it easy to **separate input data and analysis results** into separate spreadsheets. This way the original data is kept.\n",
    ">* When working with multiple datasets, pandas **code can be reapplied easily**.\n",
    "\n",
    "### Do I need to be a Python wizard?\n",
    ">* No! In general **AI tools (Gemini, ChatGPT, etc.) can help you**. They are pretty good with queries such as \"I want to do this and that with pandas in Python\" (or any other library).\n",
    ">* You do **need to double-check** that the AI tool is doing what you want though!\n",
    ">* If the AI tool gives you an imcomplete and / or difficult to use answer: (i) **use AI prompts to refine the answer**, and (ii) **use the documentation**, in general extensive and easy-to-search for popular Python libraries (e.g., for Pandas: https://pandas.pydata.org/docs/)"
   ]
  },
  {
   "cell_type": "markdown",
   "metadata": {},
   "source": [
    "## 1.1 Creating a DataFrame from spreadsheet data\n",
    ">* Pandas allows reading importing data from an Excel/csv file into a pandas DataFrame.\n",
    ">* We can read a CSV file with pandas by using `pd.read_csv`. Excel files can be read using `pd.read_excel`."
   ]
  },
  {
   "cell_type": "code",
   "execution_count": 2,
   "metadata": {},
   "outputs": [
    {
     "data": {
      "text/html": [
       "<div>\n",
       "<style scoped>\n",
       "    .dataframe tbody tr th:only-of-type {\n",
       "        vertical-align: middle;\n",
       "    }\n",
       "\n",
       "    .dataframe tbody tr th {\n",
       "        vertical-align: top;\n",
       "    }\n",
       "\n",
       "    .dataframe thead th {\n",
       "        text-align: right;\n",
       "    }\n",
       "</style>\n",
       "<table border=\"1\" class=\"dataframe\">\n",
       "  <thead>\n",
       "    <tr style=\"text-align: right;\">\n",
       "      <th></th>\n",
       "      <th>Baltimore city (cfs)</th>\n",
       "      <th>Chester city (cfs)</th>\n",
       "      <th>Peach Bottom Nuclear Power Plant (cfs)</th>\n",
       "      <th>Minimum environmental flows (cfs)</th>\n",
       "    </tr>\n",
       "    <tr>\n",
       "      <th>Month</th>\n",
       "      <th></th>\n",
       "      <th></th>\n",
       "      <th></th>\n",
       "      <th></th>\n",
       "    </tr>\n",
       "  </thead>\n",
       "  <tbody>\n",
       "    <tr>\n",
       "      <th>January</th>\n",
       "      <td>464</td>\n",
       "      <td>52</td>\n",
       "      <td>22</td>\n",
       "      <td>3500</td>\n",
       "    </tr>\n",
       "    <tr>\n",
       "      <th>February</th>\n",
       "      <td>464</td>\n",
       "      <td>55</td>\n",
       "      <td>20</td>\n",
       "      <td>3500</td>\n",
       "    </tr>\n",
       "    <tr>\n",
       "      <th>March</th>\n",
       "      <td>464</td>\n",
       "      <td>50</td>\n",
       "      <td>24</td>\n",
       "      <td>3500</td>\n",
       "    </tr>\n",
       "    <tr>\n",
       "      <th>April</th>\n",
       "      <td>464</td>\n",
       "      <td>47</td>\n",
       "      <td>29</td>\n",
       "      <td>10000</td>\n",
       "    </tr>\n",
       "    <tr>\n",
       "      <th>May</th>\n",
       "      <td>464</td>\n",
       "      <td>52</td>\n",
       "      <td>35</td>\n",
       "      <td>7500</td>\n",
       "    </tr>\n",
       "    <tr>\n",
       "      <th>June</th>\n",
       "      <td>464</td>\n",
       "      <td>54</td>\n",
       "      <td>41</td>\n",
       "      <td>5000</td>\n",
       "    </tr>\n",
       "    <tr>\n",
       "      <th>July</th>\n",
       "      <td>464</td>\n",
       "      <td>53</td>\n",
       "      <td>42</td>\n",
       "      <td>5000</td>\n",
       "    </tr>\n",
       "    <tr>\n",
       "      <th>August</th>\n",
       "      <td>464</td>\n",
       "      <td>54</td>\n",
       "      <td>40</td>\n",
       "      <td>5000</td>\n",
       "    </tr>\n",
       "    <tr>\n",
       "      <th>September</th>\n",
       "      <td>464</td>\n",
       "      <td>53</td>\n",
       "      <td>32</td>\n",
       "      <td>4200</td>\n",
       "    </tr>\n",
       "    <tr>\n",
       "      <th>October</th>\n",
       "      <td>464</td>\n",
       "      <td>51</td>\n",
       "      <td>24</td>\n",
       "      <td>3500</td>\n",
       "    </tr>\n",
       "    <tr>\n",
       "      <th>November</th>\n",
       "      <td>464</td>\n",
       "      <td>52</td>\n",
       "      <td>30</td>\n",
       "      <td>3500</td>\n",
       "    </tr>\n",
       "    <tr>\n",
       "      <th>December</th>\n",
       "      <td>464</td>\n",
       "      <td>51</td>\n",
       "      <td>23</td>\n",
       "      <td>3500</td>\n",
       "    </tr>\n",
       "  </tbody>\n",
       "</table>\n",
       "</div>"
      ],
      "text/plain": [
       "           Baltimore city (cfs)  Chester city (cfs)  \\\n",
       "Month                                                 \n",
       "January                     464                  52   \n",
       "February                    464                  55   \n",
       "March                       464                  50   \n",
       "April                       464                  47   \n",
       "May                         464                  52   \n",
       "June                        464                  54   \n",
       "July                        464                  53   \n",
       "August                      464                  54   \n",
       "September                   464                  53   \n",
       "October                     464                  51   \n",
       "November                    464                  52   \n",
       "December                    464                  51   \n",
       "\n",
       "           Peach Bottom Nuclear Power Plant (cfs)  \\\n",
       "Month                                               \n",
       "January                                        22   \n",
       "February                                       20   \n",
       "March                                          24   \n",
       "April                                          29   \n",
       "May                                            35   \n",
       "June                                           41   \n",
       "July                                           42   \n",
       "August                                         40   \n",
       "September                                      32   \n",
       "October                                        24   \n",
       "November                                       30   \n",
       "December                                       23   \n",
       "\n",
       "           Minimum environmental flows (cfs)  \n",
       "Month                                         \n",
       "January                                 3500  \n",
       "February                                3500  \n",
       "March                                   3500  \n",
       "April                                  10000  \n",
       "May                                     7500  \n",
       "June                                    5000  \n",
       "July                                    5000  \n",
       "August                                  5000  \n",
       "September                               4200  \n",
       "October                                 3500  \n",
       "November                                3500  \n",
       "December                                3500  "
      ]
     },
     "execution_count": 2,
     "metadata": {},
     "output_type": "execute_result"
    }
   ],
   "source": [
    "filepath = r\"data\\Conowingo_data.xlsx\" # r is to treat all characters between the quotes as a raw string.\n",
    "                                  # Otherwise, special couples, such as \"\\n\", may be treated as a new line\n",
    "\n",
    "# Read specific extent (columns and rows) from a specific worksheet\n",
    "demand_df = pd.read_excel(filepath, \n",
    "                          sheet_name='Demands', # Specify the worksheet\n",
    "                          usecols=\"A:E\",        # Specify columns (e.g., columns A to E)\n",
    "                          skiprows=0,           # (Optional) Skip the first n row if necessary (skiprows=0 does not skip a row)\n",
    "                          nrows=12,             # (Optional) Read the first 12 rows after the first row (first row will be column titles)\n",
    "                          index_col=0)          # Dataframe index column (0 indicates the first column)\n",
    "demand_df"
   ]
  },
  {
   "cell_type": "markdown",
   "metadata": {},
   "source": [
    "## 1.2 Selecting and displaying parts of a DataFrame\n",
    "\n",
    "Here we are going to look at:\n",
    ">* Displaying the index of the DataFrame, i.e. the row labels.\n",
    ">* Displaying the columns of the DataFrame, i.e., the... column labels.\n",
    ">* Displaying the first / last n rows of a DataFrame: the `head` and `tail` methods.\n",
    ">* Selecting slices of the DataFrame: a column, a row, one value, a range of values. Pay close attention to methods `loc` and `iloc`."
   ]
  },
  {
   "cell_type": "markdown",
   "metadata": {},
   "source": [
    "### Querying the index of a DataFramme\n",
    ">* `DataFrame.index` will return information about the row names. In timeseries the index is generally a list of temporal markers. Here, months."
   ]
  },
  {
   "cell_type": "code",
   "execution_count": 3,
   "metadata": {},
   "outputs": [
    {
     "name": "stdout",
     "output_type": "stream",
     "text": [
      "Index(['January', 'February', 'March', 'April', 'May', 'June', 'July',\n",
      "       'August', 'September', 'October', 'November', 'December'],\n",
      "      dtype='object', name='Month')\n"
     ]
    }
   ],
   "source": [
    "print(demand_df.index)"
   ]
  },
  {
   "cell_type": "markdown",
   "metadata": {},
   "source": [
    "### Querying the columns of a DataFramme\n",
    ">* `DataFrame.columns` will return information about the columns names."
   ]
  },
  {
   "cell_type": "code",
   "execution_count": 4,
   "metadata": {},
   "outputs": [
    {
     "name": "stdout",
     "output_type": "stream",
     "text": [
      "Index(['Baltimore city (cfs)', 'Chester city (cfs)',\n",
      "       'Peach Bottom Nuclear Power Plant (cfs)',\n",
      "       'Minimum environmental flows (cfs)'],\n",
      "      dtype='object')\n"
     ]
    }
   ],
   "source": [
    "print(demand_df.columns)"
   ]
  },
  {
   "cell_type": "markdown",
   "metadata": {},
   "source": [
    "### Displaying the first / last few rows of a DataFrame\n",
    ">* `DataFrame.head(n)` will return the first n rows of the DataFrame.\n",
    ">* `DataFrame.tail(n)` will return the last n rows of the DataFrame."
   ]
  },
  {
   "cell_type": "code",
   "execution_count": 5,
   "metadata": {},
   "outputs": [
    {
     "data": {
      "text/html": [
       "<div>\n",
       "<style scoped>\n",
       "    .dataframe tbody tr th:only-of-type {\n",
       "        vertical-align: middle;\n",
       "    }\n",
       "\n",
       "    .dataframe tbody tr th {\n",
       "        vertical-align: top;\n",
       "    }\n",
       "\n",
       "    .dataframe thead th {\n",
       "        text-align: right;\n",
       "    }\n",
       "</style>\n",
       "<table border=\"1\" class=\"dataframe\">\n",
       "  <thead>\n",
       "    <tr style=\"text-align: right;\">\n",
       "      <th></th>\n",
       "      <th>Baltimore city (cfs)</th>\n",
       "      <th>Chester city (cfs)</th>\n",
       "      <th>Peach Bottom Nuclear Power Plant (cfs)</th>\n",
       "      <th>Minimum environmental flows (cfs)</th>\n",
       "    </tr>\n",
       "    <tr>\n",
       "      <th>Month</th>\n",
       "      <th></th>\n",
       "      <th></th>\n",
       "      <th></th>\n",
       "      <th></th>\n",
       "    </tr>\n",
       "  </thead>\n",
       "  <tbody>\n",
       "    <tr>\n",
       "      <th>January</th>\n",
       "      <td>464</td>\n",
       "      <td>52</td>\n",
       "      <td>22</td>\n",
       "      <td>3500</td>\n",
       "    </tr>\n",
       "    <tr>\n",
       "      <th>February</th>\n",
       "      <td>464</td>\n",
       "      <td>55</td>\n",
       "      <td>20</td>\n",
       "      <td>3500</td>\n",
       "    </tr>\n",
       "    <tr>\n",
       "      <th>March</th>\n",
       "      <td>464</td>\n",
       "      <td>50</td>\n",
       "      <td>24</td>\n",
       "      <td>3500</td>\n",
       "    </tr>\n",
       "  </tbody>\n",
       "</table>\n",
       "</div>"
      ],
      "text/plain": [
       "          Baltimore city (cfs)  Chester city (cfs)  \\\n",
       "Month                                                \n",
       "January                    464                  52   \n",
       "February                   464                  55   \n",
       "March                      464                  50   \n",
       "\n",
       "          Peach Bottom Nuclear Power Plant (cfs)  \\\n",
       "Month                                              \n",
       "January                                       22   \n",
       "February                                      20   \n",
       "March                                         24   \n",
       "\n",
       "          Minimum environmental flows (cfs)  \n",
       "Month                                        \n",
       "January                                3500  \n",
       "February                               3500  \n",
       "March                                  3500  "
      ]
     },
     "execution_count": 5,
     "metadata": {},
     "output_type": "execute_result"
    }
   ],
   "source": [
    "# Display only the first 3 rows of the DataFrame\n",
    "demand_df.head(3)"
   ]
  },
  {
   "cell_type": "code",
   "execution_count": 6,
   "metadata": {},
   "outputs": [
    {
     "data": {
      "text/html": [
       "<div>\n",
       "<style scoped>\n",
       "    .dataframe tbody tr th:only-of-type {\n",
       "        vertical-align: middle;\n",
       "    }\n",
       "\n",
       "    .dataframe tbody tr th {\n",
       "        vertical-align: top;\n",
       "    }\n",
       "\n",
       "    .dataframe thead th {\n",
       "        text-align: right;\n",
       "    }\n",
       "</style>\n",
       "<table border=\"1\" class=\"dataframe\">\n",
       "  <thead>\n",
       "    <tr style=\"text-align: right;\">\n",
       "      <th></th>\n",
       "      <th>Baltimore city (cfs)</th>\n",
       "      <th>Chester city (cfs)</th>\n",
       "      <th>Peach Bottom Nuclear Power Plant (cfs)</th>\n",
       "      <th>Minimum environmental flows (cfs)</th>\n",
       "    </tr>\n",
       "    <tr>\n",
       "      <th>Month</th>\n",
       "      <th></th>\n",
       "      <th></th>\n",
       "      <th></th>\n",
       "      <th></th>\n",
       "    </tr>\n",
       "  </thead>\n",
       "  <tbody>\n",
       "    <tr>\n",
       "      <th>November</th>\n",
       "      <td>464</td>\n",
       "      <td>52</td>\n",
       "      <td>30</td>\n",
       "      <td>3500</td>\n",
       "    </tr>\n",
       "    <tr>\n",
       "      <th>December</th>\n",
       "      <td>464</td>\n",
       "      <td>51</td>\n",
       "      <td>23</td>\n",
       "      <td>3500</td>\n",
       "    </tr>\n",
       "  </tbody>\n",
       "</table>\n",
       "</div>"
      ],
      "text/plain": [
       "          Baltimore city (cfs)  Chester city (cfs)  \\\n",
       "Month                                                \n",
       "November                   464                  52   \n",
       "December                   464                  51   \n",
       "\n",
       "          Peach Bottom Nuclear Power Plant (cfs)  \\\n",
       "Month                                              \n",
       "November                                      30   \n",
       "December                                      23   \n",
       "\n",
       "          Minimum environmental flows (cfs)  \n",
       "Month                                        \n",
       "November                               3500  \n",
       "December                               3500  "
      ]
     },
     "execution_count": 6,
     "metadata": {},
     "output_type": "execute_result"
    }
   ],
   "source": [
    "# Display only the last 2 rows of the dataframe\n",
    "demand_df.tail(2)"
   ]
  },
  {
   "cell_type": "markdown",
   "metadata": {},
   "source": [
    "### Selecting values: slicing a DataFrame"
   ]
  },
  {
   "cell_type": "markdown",
   "metadata": {},
   "source": [
    ">* Referencing one column by using `DataFrame[name_of_column]`"
   ]
  },
  {
   "cell_type": "code",
   "execution_count": 7,
   "metadata": {},
   "outputs": [
    {
     "data": {
      "text/plain": [
       "Month\n",
       "January       3500\n",
       "February      3500\n",
       "March         3500\n",
       "April        10000\n",
       "May           7500\n",
       "June          5000\n",
       "July          5000\n",
       "August        5000\n",
       "September     4200\n",
       "October       3500\n",
       "November      3500\n",
       "December      3500\n",
       "Name: Minimum environmental flows (cfs), dtype: int64"
      ]
     },
     "execution_count": 7,
     "metadata": {},
     "output_type": "execute_result"
    }
   ],
   "source": [
    "demand_df[\"Minimum environmental flows (cfs)\"]"
   ]
  },
  {
   "cell_type": "markdown",
   "metadata": {},
   "source": [
    ">* Subsetting a DataFrame by using `DataFrame.loc`. This selection finds a value within the DataFrame below `df.loc[index, column]` where index and column are their **labels**."
   ]
  },
  {
   "cell_type": "code",
   "execution_count": 8,
   "metadata": {},
   "outputs": [
    {
     "data": {
      "text/plain": [
       "5000"
      ]
     },
     "execution_count": 8,
     "metadata": {},
     "output_type": "execute_result"
    }
   ],
   "source": [
    "demand_df.loc[\"June\", \"Minimum environmental flows (cfs)\"]"
   ]
  },
  {
   "cell_type": "markdown",
   "metadata": {},
   "source": [
    ">* Use the notation `:` when you want to select all the values for either rows or columns\n",
    "\n",
    "We get the same result as with calling a column above, but we can also use this to display a row."
   ]
  },
  {
   "cell_type": "code",
   "execution_count": 9,
   "metadata": {},
   "outputs": [
    {
     "data": {
      "text/plain": [
       "Month\n",
       "January       3500\n",
       "February      3500\n",
       "March         3500\n",
       "April        10000\n",
       "May           7500\n",
       "June          5000\n",
       "July          5000\n",
       "August        5000\n",
       "September     4200\n",
       "October       3500\n",
       "November      3500\n",
       "December      3500\n",
       "Name: Minimum environmental flows (cfs), dtype: int64"
      ]
     },
     "execution_count": 9,
     "metadata": {},
     "output_type": "execute_result"
    }
   ],
   "source": [
    "demand_df.loc[:, \"Minimum environmental flows (cfs)\"]"
   ]
  },
  {
   "cell_type": "code",
   "execution_count": 10,
   "metadata": {},
   "outputs": [
    {
     "data": {
      "text/plain": [
       "Baltimore city (cfs)                       464\n",
       "Chester city (cfs)                          54\n",
       "Peach Bottom Nuclear Power Plant (cfs)      41\n",
       "Minimum environmental flows (cfs)         5000\n",
       "Name: June, dtype: int64"
      ]
     },
     "execution_count": 10,
     "metadata": {},
     "output_type": "execute_result"
    }
   ],
   "source": [
    "demand_df.loc[\"June\", :]"
   ]
  },
  {
   "cell_type": "markdown",
   "metadata": {},
   "source": [
    ">* Subsetting a DataFrame by using `DataFrame.iloc`. This selection finds a values as above but now index and column are instead their **positions**. Please note: In python, position indexing starts from 0."
   ]
  },
  {
   "cell_type": "code",
   "execution_count": 11,
   "metadata": {},
   "outputs": [
    {
     "data": {
      "text/plain": [
       "42"
      ]
     },
     "execution_count": 11,
     "metadata": {},
     "output_type": "execute_result"
    }
   ],
   "source": [
    "demand_df.iloc[6, 2]"
   ]
  },
  {
   "cell_type": "markdown",
   "metadata": {},
   "source": [
    ">* Subsetting a DataFrame with a range of criteria. Can be done both with `df.loc` and `df.iloc`."
   ]
  },
  {
   "cell_type": "code",
   "execution_count": 12,
   "metadata": {},
   "outputs": [
    {
     "data": {
      "text/html": [
       "<div>\n",
       "<style scoped>\n",
       "    .dataframe tbody tr th:only-of-type {\n",
       "        vertical-align: middle;\n",
       "    }\n",
       "\n",
       "    .dataframe tbody tr th {\n",
       "        vertical-align: top;\n",
       "    }\n",
       "\n",
       "    .dataframe thead th {\n",
       "        text-align: right;\n",
       "    }\n",
       "</style>\n",
       "<table border=\"1\" class=\"dataframe\">\n",
       "  <thead>\n",
       "    <tr style=\"text-align: right;\">\n",
       "      <th></th>\n",
       "      <th>Peach Bottom Nuclear Power Plant (cfs)</th>\n",
       "      <th>Chester city (cfs)</th>\n",
       "    </tr>\n",
       "    <tr>\n",
       "      <th>Month</th>\n",
       "      <th></th>\n",
       "      <th></th>\n",
       "    </tr>\n",
       "  </thead>\n",
       "  <tbody>\n",
       "    <tr>\n",
       "      <th>November</th>\n",
       "      <td>30</td>\n",
       "      <td>52</td>\n",
       "    </tr>\n",
       "    <tr>\n",
       "      <th>March</th>\n",
       "      <td>24</td>\n",
       "      <td>50</td>\n",
       "    </tr>\n",
       "    <tr>\n",
       "      <th>August</th>\n",
       "      <td>40</td>\n",
       "      <td>54</td>\n",
       "    </tr>\n",
       "    <tr>\n",
       "      <th>May</th>\n",
       "      <td>35</td>\n",
       "      <td>52</td>\n",
       "    </tr>\n",
       "  </tbody>\n",
       "</table>\n",
       "</div>"
      ],
      "text/plain": [
       "          Peach Bottom Nuclear Power Plant (cfs)  Chester city (cfs)\n",
       "Month                                                               \n",
       "November                                      30                  52\n",
       "March                                         24                  50\n",
       "August                                        40                  54\n",
       "May                                           35                  52"
      ]
     },
     "execution_count": 12,
     "metadata": {},
     "output_type": "execute_result"
    }
   ],
   "source": [
    "demand_df.loc[[\"November\", \"March\", \"August\", \"May\"], [\"Peach Bottom Nuclear Power Plant (cfs)\",\"Chester city (cfs)\"]]"
   ]
  },
  {
   "cell_type": "code",
   "execution_count": 13,
   "metadata": {},
   "outputs": [
    {
     "data": {
      "text/html": [
       "<div>\n",
       "<style scoped>\n",
       "    .dataframe tbody tr th:only-of-type {\n",
       "        vertical-align: middle;\n",
       "    }\n",
       "\n",
       "    .dataframe tbody tr th {\n",
       "        vertical-align: top;\n",
       "    }\n",
       "\n",
       "    .dataframe thead th {\n",
       "        text-align: right;\n",
       "    }\n",
       "</style>\n",
       "<table border=\"1\" class=\"dataframe\">\n",
       "  <thead>\n",
       "    <tr style=\"text-align: right;\">\n",
       "      <th></th>\n",
       "      <th>Chester city (cfs)</th>\n",
       "      <th>Peach Bottom Nuclear Power Plant (cfs)</th>\n",
       "    </tr>\n",
       "    <tr>\n",
       "      <th>Month</th>\n",
       "      <th></th>\n",
       "      <th></th>\n",
       "    </tr>\n",
       "  </thead>\n",
       "  <tbody>\n",
       "    <tr>\n",
       "      <th>March</th>\n",
       "      <td>50</td>\n",
       "      <td>24</td>\n",
       "    </tr>\n",
       "    <tr>\n",
       "      <th>April</th>\n",
       "      <td>47</td>\n",
       "      <td>29</td>\n",
       "    </tr>\n",
       "    <tr>\n",
       "      <th>May</th>\n",
       "      <td>52</td>\n",
       "      <td>35</td>\n",
       "    </tr>\n",
       "  </tbody>\n",
       "</table>\n",
       "</div>"
      ],
      "text/plain": [
       "       Chester city (cfs)  Peach Bottom Nuclear Power Plant (cfs)\n",
       "Month                                                            \n",
       "March                  50                                      24\n",
       "April                  47                                      29\n",
       "May                    52                                      35"
      ]
     },
     "execution_count": 13,
     "metadata": {},
     "output_type": "execute_result"
    }
   ],
   "source": [
    "demand_df.iloc[2:5, 1:3] # Display the slice of the dataframe from 3rd to 5th row and 2nd to 3rd column"
   ]
  },
  {
   "cell_type": "markdown",
   "metadata": {},
   "source": [
    "## 1.3 Manipulating a DataFrame\n",
    "\n",
    "This presentes some useful operations:\n",
    ">* Conversion from one set of units to another. **Unit conversion is very important for calculations**, as data sources using different units need to be put together in a single coherent system.\n",
    ">* Adding columns.\n",
    ">* Summing up data with `df.sum()`.\n",
    ">* Averaging data with `df.mean()`.\n",
    ">* Removing columns."
   ]
  },
  {
   "cell_type": "markdown",
   "metadata": {},
   "source": [
    "### Unit conversion\n",
    "\n",
    "Our data has an annoying format: cubic feet per second. Let's convert to metric."
   ]
  },
  {
   "cell_type": "code",
   "execution_count": 14,
   "metadata": {},
   "outputs": [
    {
     "data": {
      "text/html": [
       "<div>\n",
       "<style scoped>\n",
       "    .dataframe tbody tr th:only-of-type {\n",
       "        vertical-align: middle;\n",
       "    }\n",
       "\n",
       "    .dataframe tbody tr th {\n",
       "        vertical-align: top;\n",
       "    }\n",
       "\n",
       "    .dataframe thead th {\n",
       "        text-align: right;\n",
       "    }\n",
       "</style>\n",
       "<table border=\"1\" class=\"dataframe\">\n",
       "  <thead>\n",
       "    <tr style=\"text-align: right;\">\n",
       "      <th></th>\n",
       "      <th>Baltimore city (m3/s)</th>\n",
       "      <th>Chester city (m3/s)</th>\n",
       "      <th>Peach Bottom Nuclear Power Plant (m3/s)</th>\n",
       "      <th>Minimum environmental flows (m3/s)</th>\n",
       "    </tr>\n",
       "    <tr>\n",
       "      <th>Month</th>\n",
       "      <th></th>\n",
       "      <th></th>\n",
       "      <th></th>\n",
       "      <th></th>\n",
       "    </tr>\n",
       "  </thead>\n",
       "  <tbody>\n",
       "    <tr>\n",
       "      <th>January</th>\n",
       "      <td>13.1</td>\n",
       "      <td>1.5</td>\n",
       "      <td>0.6</td>\n",
       "      <td>99.1</td>\n",
       "    </tr>\n",
       "    <tr>\n",
       "      <th>February</th>\n",
       "      <td>13.1</td>\n",
       "      <td>1.6</td>\n",
       "      <td>0.6</td>\n",
       "      <td>99.1</td>\n",
       "    </tr>\n",
       "    <tr>\n",
       "      <th>March</th>\n",
       "      <td>13.1</td>\n",
       "      <td>1.4</td>\n",
       "      <td>0.7</td>\n",
       "      <td>99.1</td>\n",
       "    </tr>\n",
       "    <tr>\n",
       "      <th>April</th>\n",
       "      <td>13.1</td>\n",
       "      <td>1.3</td>\n",
       "      <td>0.8</td>\n",
       "      <td>283.2</td>\n",
       "    </tr>\n",
       "    <tr>\n",
       "      <th>May</th>\n",
       "      <td>13.1</td>\n",
       "      <td>1.5</td>\n",
       "      <td>1.0</td>\n",
       "      <td>212.4</td>\n",
       "    </tr>\n",
       "    <tr>\n",
       "      <th>June</th>\n",
       "      <td>13.1</td>\n",
       "      <td>1.5</td>\n",
       "      <td>1.2</td>\n",
       "      <td>141.6</td>\n",
       "    </tr>\n",
       "    <tr>\n",
       "      <th>July</th>\n",
       "      <td>13.1</td>\n",
       "      <td>1.5</td>\n",
       "      <td>1.2</td>\n",
       "      <td>141.6</td>\n",
       "    </tr>\n",
       "    <tr>\n",
       "      <th>August</th>\n",
       "      <td>13.1</td>\n",
       "      <td>1.5</td>\n",
       "      <td>1.1</td>\n",
       "      <td>141.6</td>\n",
       "    </tr>\n",
       "    <tr>\n",
       "      <th>September</th>\n",
       "      <td>13.1</td>\n",
       "      <td>1.5</td>\n",
       "      <td>0.9</td>\n",
       "      <td>118.9</td>\n",
       "    </tr>\n",
       "    <tr>\n",
       "      <th>October</th>\n",
       "      <td>13.1</td>\n",
       "      <td>1.4</td>\n",
       "      <td>0.7</td>\n",
       "      <td>99.1</td>\n",
       "    </tr>\n",
       "    <tr>\n",
       "      <th>November</th>\n",
       "      <td>13.1</td>\n",
       "      <td>1.5</td>\n",
       "      <td>0.8</td>\n",
       "      <td>99.1</td>\n",
       "    </tr>\n",
       "    <tr>\n",
       "      <th>December</th>\n",
       "      <td>13.1</td>\n",
       "      <td>1.4</td>\n",
       "      <td>0.7</td>\n",
       "      <td>99.1</td>\n",
       "    </tr>\n",
       "  </tbody>\n",
       "</table>\n",
       "</div>"
      ],
      "text/plain": [
       "           Baltimore city (m3/s)  Chester city (m3/s)  \\\n",
       "Month                                                   \n",
       "January                     13.1                  1.5   \n",
       "February                    13.1                  1.6   \n",
       "March                       13.1                  1.4   \n",
       "April                       13.1                  1.3   \n",
       "May                         13.1                  1.5   \n",
       "June                        13.1                  1.5   \n",
       "July                        13.1                  1.5   \n",
       "August                      13.1                  1.5   \n",
       "September                   13.1                  1.5   \n",
       "October                     13.1                  1.4   \n",
       "November                    13.1                  1.5   \n",
       "December                    13.1                  1.4   \n",
       "\n",
       "           Peach Bottom Nuclear Power Plant (m3/s)  \\\n",
       "Month                                                \n",
       "January                                        0.6   \n",
       "February                                       0.6   \n",
       "March                                          0.7   \n",
       "April                                          0.8   \n",
       "May                                            1.0   \n",
       "June                                           1.2   \n",
       "July                                           1.2   \n",
       "August                                         1.1   \n",
       "September                                      0.9   \n",
       "October                                        0.7   \n",
       "November                                       0.8   \n",
       "December                                       0.7   \n",
       "\n",
       "           Minimum environmental flows (m3/s)  \n",
       "Month                                          \n",
       "January                                  99.1  \n",
       "February                                 99.1  \n",
       "March                                    99.1  \n",
       "April                                   283.2  \n",
       "May                                     212.4  \n",
       "June                                    141.6  \n",
       "July                                    141.6  \n",
       "August                                  141.6  \n",
       "September                               118.9  \n",
       "October                                  99.1  \n",
       "November                                 99.1  \n",
       "December                                 99.1  "
      ]
     },
     "execution_count": 14,
     "metadata": {},
     "output_type": "execute_result"
    }
   ],
   "source": [
    "# Convert all values in the dataframe to metric system units: conversion from cfs to m3/s\n",
    "demand_df = demand_df * 0.3048**3\n",
    "\n",
    "# We need to also change \"cfs\" with \"m3/s\" in column headers\n",
    "demand_df.columns = pd.Series(demand_df.columns).replace('cfs', 'm3/s', regex=True)\n",
    "\n",
    "# What does that look like, rounded to the first decimal place?\n",
    "demand_df.round(1)"
   ]
  },
  {
   "cell_type": "markdown",
   "metadata": {},
   "source": [
    "## Getting totals\n",
    "\n",
    ">* Example uses of `df_sum`, note the axis.\n",
    "\n",
    "Here we calculate the total of demands, and add it as a new column to our data frame. Then we do the same for potable demand only (Chester & Baltimore)."
   ]
  },
  {
   "cell_type": "code",
   "execution_count": 15,
   "metadata": {},
   "outputs": [
    {
     "data": {
      "text/html": [
       "<div>\n",
       "<style scoped>\n",
       "    .dataframe tbody tr th:only-of-type {\n",
       "        vertical-align: middle;\n",
       "    }\n",
       "\n",
       "    .dataframe tbody tr th {\n",
       "        vertical-align: top;\n",
       "    }\n",
       "\n",
       "    .dataframe thead th {\n",
       "        text-align: right;\n",
       "    }\n",
       "</style>\n",
       "<table border=\"1\" class=\"dataframe\">\n",
       "  <thead>\n",
       "    <tr style=\"text-align: right;\">\n",
       "      <th></th>\n",
       "      <th>Baltimore city (m3/s)</th>\n",
       "      <th>Chester city (m3/s)</th>\n",
       "      <th>Peach Bottom Nuclear Power Plant (m3/s)</th>\n",
       "      <th>Minimum environmental flows (m3/s)</th>\n",
       "      <th>Total Demand (m3/s)</th>\n",
       "    </tr>\n",
       "    <tr>\n",
       "      <th>Month</th>\n",
       "      <th></th>\n",
       "      <th></th>\n",
       "      <th></th>\n",
       "      <th></th>\n",
       "      <th></th>\n",
       "    </tr>\n",
       "  </thead>\n",
       "  <tbody>\n",
       "    <tr>\n",
       "      <th>January</th>\n",
       "      <td>13.1</td>\n",
       "      <td>1.5</td>\n",
       "      <td>0.6</td>\n",
       "      <td>99.1</td>\n",
       "      <td>114.3</td>\n",
       "    </tr>\n",
       "    <tr>\n",
       "      <th>February</th>\n",
       "      <td>13.1</td>\n",
       "      <td>1.6</td>\n",
       "      <td>0.6</td>\n",
       "      <td>99.1</td>\n",
       "      <td>114.4</td>\n",
       "    </tr>\n",
       "    <tr>\n",
       "      <th>March</th>\n",
       "      <td>13.1</td>\n",
       "      <td>1.4</td>\n",
       "      <td>0.7</td>\n",
       "      <td>99.1</td>\n",
       "      <td>114.3</td>\n",
       "    </tr>\n",
       "    <tr>\n",
       "      <th>April</th>\n",
       "      <td>13.1</td>\n",
       "      <td>1.3</td>\n",
       "      <td>0.8</td>\n",
       "      <td>283.2</td>\n",
       "      <td>298.5</td>\n",
       "    </tr>\n",
       "    <tr>\n",
       "      <th>May</th>\n",
       "      <td>13.1</td>\n",
       "      <td>1.5</td>\n",
       "      <td>1.0</td>\n",
       "      <td>212.4</td>\n",
       "      <td>228.0</td>\n",
       "    </tr>\n",
       "  </tbody>\n",
       "</table>\n",
       "</div>"
      ],
      "text/plain": [
       "          Baltimore city (m3/s)  Chester city (m3/s)  \\\n",
       "Month                                                  \n",
       "January                    13.1                  1.5   \n",
       "February                   13.1                  1.6   \n",
       "March                      13.1                  1.4   \n",
       "April                      13.1                  1.3   \n",
       "May                        13.1                  1.5   \n",
       "\n",
       "          Peach Bottom Nuclear Power Plant (m3/s)  \\\n",
       "Month                                               \n",
       "January                                       0.6   \n",
       "February                                      0.6   \n",
       "March                                         0.7   \n",
       "April                                         0.8   \n",
       "May                                           1.0   \n",
       "\n",
       "          Minimum environmental flows (m3/s)  Total Demand (m3/s)  \n",
       "Month                                                              \n",
       "January                                 99.1                114.3  \n",
       "February                                99.1                114.4  \n",
       "March                                   99.1                114.3  \n",
       "April                                  283.2                298.5  \n",
       "May                                    212.4                228.0  "
      ]
     },
     "execution_count": 15,
     "metadata": {},
     "output_type": "execute_result"
    }
   ],
   "source": [
    "# Calculate the sum of values across each row in the dataframe (for total monthly demand)\n",
    "# Calculated sum will be added as a new column to the copied dataframe\n",
    "demand_df[\"Total Demand (m3/s)\"]  = demand_df.sum(axis=1)\n",
    "demand_df.round(1).head()"
   ]
  },
  {
   "cell_type": "code",
   "execution_count": 16,
   "metadata": {},
   "outputs": [
    {
     "data": {
      "text/html": [
       "<div>\n",
       "<style scoped>\n",
       "    .dataframe tbody tr th:only-of-type {\n",
       "        vertical-align: middle;\n",
       "    }\n",
       "\n",
       "    .dataframe tbody tr th {\n",
       "        vertical-align: top;\n",
       "    }\n",
       "\n",
       "    .dataframe thead th {\n",
       "        text-align: right;\n",
       "    }\n",
       "</style>\n",
       "<table border=\"1\" class=\"dataframe\">\n",
       "  <thead>\n",
       "    <tr style=\"text-align: right;\">\n",
       "      <th></th>\n",
       "      <th>Baltimore city (m3/s)</th>\n",
       "      <th>Chester city (m3/s)</th>\n",
       "      <th>Peach Bottom Nuclear Power Plant (m3/s)</th>\n",
       "      <th>Minimum environmental flows (m3/s)</th>\n",
       "      <th>Total Demand (m3/s)</th>\n",
       "      <th>Total Potable Water Demand (m3/s)</th>\n",
       "    </tr>\n",
       "    <tr>\n",
       "      <th>Month</th>\n",
       "      <th></th>\n",
       "      <th></th>\n",
       "      <th></th>\n",
       "      <th></th>\n",
       "      <th></th>\n",
       "      <th></th>\n",
       "    </tr>\n",
       "  </thead>\n",
       "  <tbody>\n",
       "    <tr>\n",
       "      <th>January</th>\n",
       "      <td>13.1</td>\n",
       "      <td>1.5</td>\n",
       "      <td>0.6</td>\n",
       "      <td>99.1</td>\n",
       "      <td>114.3</td>\n",
       "      <td>14.6</td>\n",
       "    </tr>\n",
       "    <tr>\n",
       "      <th>February</th>\n",
       "      <td>13.1</td>\n",
       "      <td>1.6</td>\n",
       "      <td>0.6</td>\n",
       "      <td>99.1</td>\n",
       "      <td>114.4</td>\n",
       "      <td>14.7</td>\n",
       "    </tr>\n",
       "    <tr>\n",
       "      <th>March</th>\n",
       "      <td>13.1</td>\n",
       "      <td>1.4</td>\n",
       "      <td>0.7</td>\n",
       "      <td>99.1</td>\n",
       "      <td>114.3</td>\n",
       "      <td>14.6</td>\n",
       "    </tr>\n",
       "    <tr>\n",
       "      <th>April</th>\n",
       "      <td>13.1</td>\n",
       "      <td>1.3</td>\n",
       "      <td>0.8</td>\n",
       "      <td>283.2</td>\n",
       "      <td>298.5</td>\n",
       "      <td>14.5</td>\n",
       "    </tr>\n",
       "    <tr>\n",
       "      <th>May</th>\n",
       "      <td>13.1</td>\n",
       "      <td>1.5</td>\n",
       "      <td>1.0</td>\n",
       "      <td>212.4</td>\n",
       "      <td>228.0</td>\n",
       "      <td>14.6</td>\n",
       "    </tr>\n",
       "  </tbody>\n",
       "</table>\n",
       "</div>"
      ],
      "text/plain": [
       "          Baltimore city (m3/s)  Chester city (m3/s)  \\\n",
       "Month                                                  \n",
       "January                    13.1                  1.5   \n",
       "February                   13.1                  1.6   \n",
       "March                      13.1                  1.4   \n",
       "April                      13.1                  1.3   \n",
       "May                        13.1                  1.5   \n",
       "\n",
       "          Peach Bottom Nuclear Power Plant (m3/s)  \\\n",
       "Month                                               \n",
       "January                                       0.6   \n",
       "February                                      0.6   \n",
       "March                                         0.7   \n",
       "April                                         0.8   \n",
       "May                                           1.0   \n",
       "\n",
       "          Minimum environmental flows (m3/s)  Total Demand (m3/s)  \\\n",
       "Month                                                               \n",
       "January                                 99.1                114.3   \n",
       "February                                99.1                114.4   \n",
       "March                                   99.1                114.3   \n",
       "April                                  283.2                298.5   \n",
       "May                                    212.4                228.0   \n",
       "\n",
       "          Total Potable Water Demand (m3/s)  \n",
       "Month                                        \n",
       "January                                14.6  \n",
       "February                               14.7  \n",
       "March                                  14.6  \n",
       "April                                  14.5  \n",
       "May                                    14.6  "
      ]
     },
     "execution_count": 16,
     "metadata": {},
     "output_type": "execute_result"
    }
   ],
   "source": [
    "# Same for potable demand\n",
    "demand_df[\"Total Potable Water Demand (m3/s)\"]  = demand_df[\"Chester city (m3/s)\"] + demand_df[\"Baltimore city (m3/s)\"]\n",
    "demand_df.round(1).head()"
   ]
  },
  {
   "cell_type": "markdown",
   "metadata": {},
   "source": [
    "## Getting averages\n",
    "\n",
    ">* Example uses of `df_mean`, note the axis."
   ]
  },
  {
   "cell_type": "code",
   "execution_count": 17,
   "metadata": {},
   "outputs": [
    {
     "name": "stdout",
     "output_type": "stream",
     "text": [
      "Baltimore city (m3/s)                       13.1\n",
      "Chester city (m3/s)                          1.5\n",
      "Peach Bottom Nuclear Power Plant (m3/s)      0.9\n",
      "Minimum environmental flows (m3/s)         136.2\n",
      "Total Demand (m3/s)                        151.6\n",
      "Total Potable Water Demand (m3/s)           14.6\n",
      "dtype: float64\n"
     ]
    }
   ],
   "source": [
    "# Calculate the average volumetric demand across each column, throughout the year\n",
    "annual_means = demand_df.mean(axis=0)\n",
    "\n",
    "# Print the result\n",
    "print(annual_means.round(1))"
   ]
  },
  {
   "cell_type": "code",
   "execution_count": 18,
   "metadata": {},
   "outputs": [
    {
     "data": {
      "text/plain": [
       "151.6"
      ]
     },
     "execution_count": 18,
     "metadata": {},
     "output_type": "execute_result"
    }
   ],
   "source": [
    "annual_means[\"Total Demand (m3/s)\"].round(1)"
   ]
  },
  {
   "cell_type": "code",
   "execution_count": 19,
   "metadata": {},
   "outputs": [
    {
     "name": "stdout",
     "output_type": "stream",
     "text": [
      "Baltimore city (m3/s)                       8.665608\n",
      "Chester city (m3/s)                         0.971146\n",
      "Peach Bottom Nuclear Power Plant (m3/s)     0.563389\n",
      "Minimum environmental flows (m3/s)         89.799857\n",
      "dtype: float64\n"
     ]
    }
   ],
   "source": [
    "# Calculate the percent contribution for each demand to the annual total demand\n",
    "percent_contribution = (annual_means.iloc[:4] / annual_means[\"Total Demand (m3/s)\"]) * 100\n",
    "\n",
    "# Print the result\n",
    "print(percent_contribution)"
   ]
  },
  {
   "cell_type": "markdown",
   "metadata": {},
   "source": [
    "## Remove a column"
   ]
  },
  {
   "cell_type": "code",
   "execution_count": 20,
   "metadata": {},
   "outputs": [
    {
     "data": {
      "text/html": [
       "<div>\n",
       "<style scoped>\n",
       "    .dataframe tbody tr th:only-of-type {\n",
       "        vertical-align: middle;\n",
       "    }\n",
       "\n",
       "    .dataframe tbody tr th {\n",
       "        vertical-align: top;\n",
       "    }\n",
       "\n",
       "    .dataframe thead th {\n",
       "        text-align: right;\n",
       "    }\n",
       "</style>\n",
       "<table border=\"1\" class=\"dataframe\">\n",
       "  <thead>\n",
       "    <tr style=\"text-align: right;\">\n",
       "      <th></th>\n",
       "      <th>Baltimore city (m3/s)</th>\n",
       "      <th>Chester city (m3/s)</th>\n",
       "      <th>Peach Bottom Nuclear Power Plant (m3/s)</th>\n",
       "      <th>Minimum environmental flows (m3/s)</th>\n",
       "      <th>Total Demand (m3/s)</th>\n",
       "    </tr>\n",
       "    <tr>\n",
       "      <th>Month</th>\n",
       "      <th></th>\n",
       "      <th></th>\n",
       "      <th></th>\n",
       "      <th></th>\n",
       "      <th></th>\n",
       "    </tr>\n",
       "  </thead>\n",
       "  <tbody>\n",
       "    <tr>\n",
       "      <th>January</th>\n",
       "      <td>13.1</td>\n",
       "      <td>1.5</td>\n",
       "      <td>0.6</td>\n",
       "      <td>99.1</td>\n",
       "      <td>114.3</td>\n",
       "    </tr>\n",
       "    <tr>\n",
       "      <th>February</th>\n",
       "      <td>13.1</td>\n",
       "      <td>1.6</td>\n",
       "      <td>0.6</td>\n",
       "      <td>99.1</td>\n",
       "      <td>114.4</td>\n",
       "    </tr>\n",
       "    <tr>\n",
       "      <th>March</th>\n",
       "      <td>13.1</td>\n",
       "      <td>1.4</td>\n",
       "      <td>0.7</td>\n",
       "      <td>99.1</td>\n",
       "      <td>114.3</td>\n",
       "    </tr>\n",
       "    <tr>\n",
       "      <th>April</th>\n",
       "      <td>13.1</td>\n",
       "      <td>1.3</td>\n",
       "      <td>0.8</td>\n",
       "      <td>283.2</td>\n",
       "      <td>298.5</td>\n",
       "    </tr>\n",
       "    <tr>\n",
       "      <th>May</th>\n",
       "      <td>13.1</td>\n",
       "      <td>1.5</td>\n",
       "      <td>1.0</td>\n",
       "      <td>212.4</td>\n",
       "      <td>228.0</td>\n",
       "    </tr>\n",
       "  </tbody>\n",
       "</table>\n",
       "</div>"
      ],
      "text/plain": [
       "          Baltimore city (m3/s)  Chester city (m3/s)  \\\n",
       "Month                                                  \n",
       "January                    13.1                  1.5   \n",
       "February                   13.1                  1.6   \n",
       "March                      13.1                  1.4   \n",
       "April                      13.1                  1.3   \n",
       "May                        13.1                  1.5   \n",
       "\n",
       "          Peach Bottom Nuclear Power Plant (m3/s)  \\\n",
       "Month                                               \n",
       "January                                       0.6   \n",
       "February                                      0.6   \n",
       "March                                         0.7   \n",
       "April                                         0.8   \n",
       "May                                           1.0   \n",
       "\n",
       "          Minimum environmental flows (m3/s)  Total Demand (m3/s)  \n",
       "Month                                                              \n",
       "January                                 99.1                114.3  \n",
       "February                                99.1                114.4  \n",
       "March                                   99.1                114.3  \n",
       "April                                  283.2                298.5  \n",
       "May                                    212.4                228.0  "
      ]
     },
     "execution_count": 20,
     "metadata": {},
     "output_type": "execute_result"
    }
   ],
   "source": [
    "# Need to set axis=1 overwise drop will try to remove a row as the default is axis=0\n",
    "demand_df = demand_df.drop(\"Total Potable Water Demand (m3/s)\", axis=1)\n",
    "demand_df.round(1).head()"
   ]
  },
  {
   "cell_type": "code",
   "execution_count": 21,
   "metadata": {},
   "outputs": [
    {
     "data": {
      "text/html": [
       "<div>\n",
       "<style scoped>\n",
       "    .dataframe tbody tr th:only-of-type {\n",
       "        vertical-align: middle;\n",
       "    }\n",
       "\n",
       "    .dataframe tbody tr th {\n",
       "        vertical-align: top;\n",
       "    }\n",
       "\n",
       "    .dataframe thead th {\n",
       "        text-align: right;\n",
       "    }\n",
       "</style>\n",
       "<table border=\"1\" class=\"dataframe\">\n",
       "  <thead>\n",
       "    <tr style=\"text-align: right;\">\n",
       "      <th></th>\n",
       "      <th>Baltimore city (m3/s)</th>\n",
       "      <th>Chester city (m3/s)</th>\n",
       "      <th>Peach Bottom Nuclear Power Plant (m3/s)</th>\n",
       "      <th>Minimum environmental flows (m3/s)</th>\n",
       "    </tr>\n",
       "    <tr>\n",
       "      <th>Month</th>\n",
       "      <th></th>\n",
       "      <th></th>\n",
       "      <th></th>\n",
       "      <th></th>\n",
       "    </tr>\n",
       "  </thead>\n",
       "  <tbody>\n",
       "    <tr>\n",
       "      <th>January</th>\n",
       "      <td>13.139017</td>\n",
       "      <td>1.472476</td>\n",
       "      <td>0.622971</td>\n",
       "      <td>99.108963</td>\n",
       "    </tr>\n",
       "    <tr>\n",
       "      <th>February</th>\n",
       "      <td>13.139017</td>\n",
       "      <td>1.557427</td>\n",
       "      <td>0.566337</td>\n",
       "      <td>99.108963</td>\n",
       "    </tr>\n",
       "    <tr>\n",
       "      <th>March</th>\n",
       "      <td>13.139017</td>\n",
       "      <td>1.415842</td>\n",
       "      <td>0.679604</td>\n",
       "      <td>99.108963</td>\n",
       "    </tr>\n",
       "    <tr>\n",
       "      <th>April</th>\n",
       "      <td>13.139017</td>\n",
       "      <td>1.330892</td>\n",
       "      <td>0.821189</td>\n",
       "      <td>283.168466</td>\n",
       "    </tr>\n",
       "    <tr>\n",
       "      <th>May</th>\n",
       "      <td>13.139017</td>\n",
       "      <td>1.472476</td>\n",
       "      <td>0.991090</td>\n",
       "      <td>212.376349</td>\n",
       "    </tr>\n",
       "  </tbody>\n",
       "</table>\n",
       "</div>"
      ],
      "text/plain": [
       "          Baltimore city (m3/s)  Chester city (m3/s)  \\\n",
       "Month                                                  \n",
       "January               13.139017             1.472476   \n",
       "February              13.139017             1.557427   \n",
       "March                 13.139017             1.415842   \n",
       "April                 13.139017             1.330892   \n",
       "May                   13.139017             1.472476   \n",
       "\n",
       "          Peach Bottom Nuclear Power Plant (m3/s)  \\\n",
       "Month                                               \n",
       "January                                  0.622971   \n",
       "February                                 0.566337   \n",
       "March                                    0.679604   \n",
       "April                                    0.821189   \n",
       "May                                      0.991090   \n",
       "\n",
       "          Minimum environmental flows (m3/s)  \n",
       "Month                                         \n",
       "January                            99.108963  \n",
       "February                           99.108963  \n",
       "March                              99.108963  \n",
       "April                             283.168466  \n",
       "May                               212.376349  "
      ]
     },
     "execution_count": 21,
     "metadata": {},
     "output_type": "execute_result"
    }
   ],
   "source": [
    "# Remove another column\n",
    "demand_df = demand_df.drop(\"Total Demand (m3/s)\", axis=1)\n",
    "demand_df.head()"
   ]
  },
  {
   "cell_type": "markdown",
   "metadata": {},
   "source": [
    "# Part 2: Visualising time series data\n",
    "\n",
    "### Working with timeseries data\n",
    ">* We often work with data with a temporal axis, pandas makes it easy to deal with this.\n",
    ">* We normally set the time-axis as the index.\n",
    ">* Control for reading in datasets, skip rows and columns.\n",
    "\n",
    "### We can set date to be the index column and recognise this as a DateTimeIndex\n",
    ">* Use `index_col` to set the column you want.\n",
    ">* Use `parse_date` so dates are automatically read in the right format."
   ]
  },
  {
   "cell_type": "code",
   "execution_count": 22,
   "metadata": {},
   "outputs": [
    {
     "data": {
      "text/html": [
       "<div>\n",
       "<style scoped>\n",
       "    .dataframe tbody tr th:only-of-type {\n",
       "        vertical-align: middle;\n",
       "    }\n",
       "\n",
       "    .dataframe tbody tr th {\n",
       "        vertical-align: top;\n",
       "    }\n",
       "\n",
       "    .dataframe thead th {\n",
       "        text-align: right;\n",
       "    }\n",
       "</style>\n",
       "<table border=\"1\" class=\"dataframe\">\n",
       "  <thead>\n",
       "    <tr style=\"text-align: right;\">\n",
       "      <th></th>\n",
       "      <th>Susquehanna River Inflow (cfs)</th>\n",
       "      <th>Lateral Inflow (cfs)</th>\n",
       "    </tr>\n",
       "    <tr>\n",
       "      <th>Date</th>\n",
       "      <th></th>\n",
       "      <th></th>\n",
       "    </tr>\n",
       "  </thead>\n",
       "  <tbody>\n",
       "    <tr>\n",
       "      <th>1932-01-01</th>\n",
       "      <td>19500</td>\n",
       "      <td>172</td>\n",
       "    </tr>\n",
       "    <tr>\n",
       "      <th>1932-01-02</th>\n",
       "      <td>21400</td>\n",
       "      <td>1148</td>\n",
       "    </tr>\n",
       "    <tr>\n",
       "      <th>1932-01-03</th>\n",
       "      <td>25900</td>\n",
       "      <td>897</td>\n",
       "    </tr>\n",
       "    <tr>\n",
       "      <th>1932-01-04</th>\n",
       "      <td>28600</td>\n",
       "      <td>501</td>\n",
       "    </tr>\n",
       "    <tr>\n",
       "      <th>1932-01-05</th>\n",
       "      <td>27200</td>\n",
       "      <td>359</td>\n",
       "    </tr>\n",
       "  </tbody>\n",
       "</table>\n",
       "</div>"
      ],
      "text/plain": [
       "            Susquehanna River Inflow (cfs)  Lateral Inflow (cfs)\n",
       "Date                                                            \n",
       "1932-01-01                           19500                   172\n",
       "1932-01-02                           21400                  1148\n",
       "1932-01-03                           25900                   897\n",
       "1932-01-04                           28600                   501\n",
       "1932-01-05                           27200                   359"
      ]
     },
     "execution_count": 22,
     "metadata": {},
     "output_type": "execute_result"
    }
   ],
   "source": [
    "# Read specific extent (columns and rows) from a specific worksheet\n",
    "flow_df = pd.read_excel(filepath, \n",
    "                        sheet_name='Flow data', # Specify the worksheet\n",
    "                        index_col=0,  # Dataframe index column (0 indicates the 1st column)\n",
    "                        parse_dates=True)            \n",
    "\n",
    "\n",
    "\n",
    "flow_df.head()"
   ]
  },
  {
   "cell_type": "code",
   "execution_count": 23,
   "metadata": {},
   "outputs": [
    {
     "data": {
      "image/png": "[encoded data removed]",
      "text/plain": [
       "<Figure size 640x480 with 1 Axes>"
      ]
     },
     "metadata": {},
     "output_type": "display_data"
    }
   ],
   "source": [
    "import matplotlib.pyplot as plt\n",
    "flow_df.loc[:,[\"Susquehanna River Inflow (cfs)\",\"Lateral Inflow (cfs)\"]].plot()\n",
    "plt.show()"
   ]
  },
  {
   "cell_type": "markdown",
   "metadata": {},
   "source": [
    "Clearly river inflows to the reservoirs are the bulk of the total inflows. Let's have a new, total inflow column using SI units."
   ]
  },
  {
   "cell_type": "code",
   "execution_count": 24,
   "metadata": {},
   "outputs": [
    {
     "data": {
      "text/plain": [
       "<Axes: xlabel='Date'>"
      ]
     },
     "execution_count": 24,
     "metadata": {},
     "output_type": "execute_result"
    },
    {
     "data": {
      "image/png": "[encoded data removed]",
      "text/plain": [
       "<Figure size 640x480 with 1 Axes>"
      ]
     },
     "metadata": {},
     "output_type": "display_data"
    }
   ],
   "source": [
    "flow_df['Total inflows (m3/s)'] = flow_df.sum(axis=1) * 0.3048**3\n",
    "\n",
    "flow_df.loc[:, ['Total inflows (m3/s)']].plot()"
   ]
  },
  {
   "cell_type": "code",
   "execution_count": 25,
   "metadata": {},
   "outputs": [
    {
     "data": {
      "image/png": "[encoded data removed]",
      "text/plain": [
       "<Figure size 640x480 with 1 Axes>"
      ]
     },
     "metadata": {},
     "output_type": "display_data"
    }
   ],
   "source": [
    "# Plot only a subset in the dataframe\n",
    "flow_df.loc[\"1991-3-1\":\"1991-5-31\",['Total inflows (m3/s)']].plot()\n",
    "plt.show()"
   ]
  },
  {
   "cell_type": "code",
   "execution_count": 26,
   "metadata": {},
   "outputs": [
    {
     "data": {
      "image/png": "[encoded data removed]",
      "text/plain": [
       "<Figure size 640x480 with 1 Axes>"
      ]
     },
     "metadata": {},
     "output_type": "display_data"
    }
   ],
   "source": [
    "# You can also customise the visuals if you want!\n",
    "import datetime\n",
    "\n",
    "def plot_flux(balance, flux_name, **kwargs):\n",
    "    \"\"\"\n",
    "    Plots daily timeseries of a water balance flow component over time. Arguments:\n",
    "        balance: a Pandas DataFrame containing the time series of the water flux to plot\n",
    "        flux_name: a string with the name of the flow component to plot\n",
    "        optional argument `first_date`: a datetime date to specify when to start plotting\n",
    "        optional argument `last_date`: a datetime date to specify when to stop plotting\n",
    "    Returns the matplotlib figure created, for plotting / saving, etc.\n",
    "    \"\"\"\n",
    "\n",
    "    # Optional arguments\n",
    "    first_date = kwargs.pop(\"first_date\", balance.index[0])\n",
    "    last_date = kwargs.pop('last_date', balance.index[-1])\n",
    "\n",
    "    fig = plt.figure()\n",
    "    ax = fig.add_subplot(1, 1, 1)\n",
    "    ax.plot(balance.index, balance[flux_name + ' (m3/s)'], c='b', linewidth=2)\n",
    "    ax.set_xlabel('Date', size=14)\n",
    "    ax.set_ylabel(flux_name + ' (m3/s)', size=14)\n",
    "    ax.set_xlim(first_date, last_date)\n",
    "    ax.set_ylim(0, balance.loc[first_date : last_date, flux_name + ' (m3/s)'].max() * 1.1)\n",
    "\n",
    "    return fig\n",
    "\n",
    "fig = plot_flux(flow_df, 'Total inflows', first_date=datetime.date(1964, 1, 1), last_date=datetime.date(1964,12,31))"
   ]
  },
  {
   "cell_type": "markdown",
   "metadata": {},
   "source": [
    "### Filter for values above a threshold"
   ]
  },
  {
   "cell_type": "code",
   "execution_count": 27,
   "metadata": {},
   "outputs": [
    {
     "data": {
      "text/plain": [
       "Date\n",
       "1932-01-01     True\n",
       "1932-01-02     True\n",
       "1932-01-03     True\n",
       "1932-01-04     True\n",
       "1932-01-05     True\n",
       "              ...  \n",
       "2001-12-27     True\n",
       "2001-12-28     True\n",
       "2001-12-29     True\n",
       "2001-12-30     True\n",
       "2001-12-31    False\n",
       "Name: Total inflows (m3/s), Length: 25568, dtype: bool"
      ]
     },
     "execution_count": 27,
     "metadata": {},
     "output_type": "execute_result"
    }
   ],
   "source": [
    "mask = flow_df['Total inflows (m3/s)'] > 500\n",
    "mask"
   ]
  },
  {
   "cell_type": "code",
   "execution_count": 28,
   "metadata": {},
   "outputs": [
    {
     "data": {
      "text/html": [
       "<div>\n",
       "<style scoped>\n",
       "    .dataframe tbody tr th:only-of-type {\n",
       "        vertical-align: middle;\n",
       "    }\n",
       "\n",
       "    .dataframe tbody tr th {\n",
       "        vertical-align: top;\n",
       "    }\n",
       "\n",
       "    .dataframe thead th {\n",
       "        text-align: right;\n",
       "    }\n",
       "</style>\n",
       "<table border=\"1\" class=\"dataframe\">\n",
       "  <thead>\n",
       "    <tr style=\"text-align: right;\">\n",
       "      <th></th>\n",
       "      <th>Susquehanna River Inflow (cfs)</th>\n",
       "      <th>Lateral Inflow (cfs)</th>\n",
       "      <th>Total inflows (m3/s)</th>\n",
       "    </tr>\n",
       "    <tr>\n",
       "      <th>Date</th>\n",
       "      <th></th>\n",
       "      <th></th>\n",
       "      <th></th>\n",
       "    </tr>\n",
       "  </thead>\n",
       "  <tbody>\n",
       "    <tr>\n",
       "      <th>1932-01-01</th>\n",
       "      <td>19500</td>\n",
       "      <td>172</td>\n",
       "      <td>557.049006</td>\n",
       "    </tr>\n",
       "    <tr>\n",
       "      <th>1932-01-02</th>\n",
       "      <td>21400</td>\n",
       "      <td>1148</td>\n",
       "      <td>638.488257</td>\n",
       "    </tr>\n",
       "    <tr>\n",
       "      <th>1932-01-03</th>\n",
       "      <td>25900</td>\n",
       "      <td>897</td>\n",
       "      <td>758.806538</td>\n",
       "    </tr>\n",
       "    <tr>\n",
       "      <th>1932-01-04</th>\n",
       "      <td>28600</td>\n",
       "      <td>501</td>\n",
       "      <td>824.048553</td>\n",
       "    </tr>\n",
       "    <tr>\n",
       "      <th>1932-01-05</th>\n",
       "      <td>27200</td>\n",
       "      <td>359</td>\n",
       "      <td>780.383975</td>\n",
       "    </tr>\n",
       "    <tr>\n",
       "      <th>...</th>\n",
       "      <td>...</td>\n",
       "      <td>...</td>\n",
       "      <td>...</td>\n",
       "    </tr>\n",
       "    <tr>\n",
       "      <th>2001-12-26</th>\n",
       "      <td>28100</td>\n",
       "      <td>1588</td>\n",
       "      <td>840.670542</td>\n",
       "    </tr>\n",
       "    <tr>\n",
       "      <th>2001-12-27</th>\n",
       "      <td>25800</td>\n",
       "      <td>1603</td>\n",
       "      <td>775.966547</td>\n",
       "    </tr>\n",
       "    <tr>\n",
       "      <th>2001-12-28</th>\n",
       "      <td>23700</td>\n",
       "      <td>1604</td>\n",
       "      <td>716.529486</td>\n",
       "    </tr>\n",
       "    <tr>\n",
       "      <th>2001-12-29</th>\n",
       "      <td>22000</td>\n",
       "      <td>1603</td>\n",
       "      <td>668.362530</td>\n",
       "    </tr>\n",
       "    <tr>\n",
       "      <th>2001-12-30</th>\n",
       "      <td>18900</td>\n",
       "      <td>1615</td>\n",
       "      <td>580.920108</td>\n",
       "    </tr>\n",
       "  </tbody>\n",
       "</table>\n",
       "<p>15254 rows × 3 columns</p>\n",
       "</div>"
      ],
      "text/plain": [
       "            Susquehanna River Inflow (cfs)  Lateral Inflow (cfs)  \\\n",
       "Date                                                               \n",
       "1932-01-01                           19500                   172   \n",
       "1932-01-02                           21400                  1148   \n",
       "1932-01-03                           25900                   897   \n",
       "1932-01-04                           28600                   501   \n",
       "1932-01-05                           27200                   359   \n",
       "...                                    ...                   ...   \n",
       "2001-12-26                           28100                  1588   \n",
       "2001-12-27                           25800                  1603   \n",
       "2001-12-28                           23700                  1604   \n",
       "2001-12-29                           22000                  1603   \n",
       "2001-12-30                           18900                  1615   \n",
       "\n",
       "            Total inflows (m3/s)  \n",
       "Date                              \n",
       "1932-01-01            557.049006  \n",
       "1932-01-02            638.488257  \n",
       "1932-01-03            758.806538  \n",
       "1932-01-04            824.048553  \n",
       "1932-01-05            780.383975  \n",
       "...                          ...  \n",
       "2001-12-26            840.670542  \n",
       "2001-12-27            775.966547  \n",
       "2001-12-28            716.529486  \n",
       "2001-12-29            668.362530  \n",
       "2001-12-30            580.920108  \n",
       "\n",
       "[15254 rows x 3 columns]"
      ]
     },
     "execution_count": 28,
     "metadata": {},
     "output_type": "execute_result"
    }
   ],
   "source": [
    "flow_df[mask]"
   ]
  },
  {
   "cell_type": "markdown",
   "metadata": {},
   "source": [
    "# Resample a DataFrame using the datetime index"
   ]
  },
  {
   "cell_type": "code",
   "execution_count": 29,
   "metadata": {},
   "outputs": [
    {
     "data": {
      "text/plain": [
       "<Axes: xlabel='Date'>"
      ]
     },
     "execution_count": 29,
     "metadata": {},
     "output_type": "execute_result"
    },
    {
     "data": {
      "image/png": "[encoded data removed]",
      "text/plain": [
       "<Figure size 640x480 with 1 Axes>"
      ]
     },
     "metadata": {},
     "output_type": "display_data"
    }
   ],
   "source": [
    "# Resample the dataframe into annual average flows\n",
    "flow_df['Total inflows (m3/s)'].resample(\"YE\").mean().plot()"
   ]
  },
  {
   "cell_type": "code",
   "execution_count": 30,
   "metadata": {},
   "outputs": [
    {
     "data": {
      "text/plain": [
       "<Axes: xlabel='Date'>"
      ]
     },
     "execution_count": 30,
     "metadata": {},
     "output_type": "execute_result"
    },
    {
     "data": {
      "image/png": "[encoded data removed]",
      "text/plain": [
       "<Figure size 640x480 with 1 Axes>"
      ]
     },
     "metadata": {},
     "output_type": "display_data"
    }
   ],
   "source": [
    "# Resample the dataframe into monthly mean flow\n",
    "flow_df['Total inflows (m3/s)'].resample(\"1ME\").mean().plot()"
   ]
  },
  {
   "cell_type": "code",
   "execution_count": 31,
   "metadata": {},
   "outputs": [
    {
     "data": {
      "image/png": "[encoded data removed]",
      "text/plain": [
       "<Figure size 640x480 with 1 Axes>"
      ]
     },
     "metadata": {},
     "output_type": "display_data"
    }
   ],
   "source": [
    "import numpy as np\n",
    "\n",
    "# But what does that look like on average\n",
    "def compute_monthly_average(flows, variable_name):\n",
    "    \"\"\"\n",
    "    Computes monthly average inflows from a `flows` pandas DataFrame containing a 'Total inflows (m3/s)' column.\n",
    "    Output:\n",
    "    averages: a Numpy vector of size 12 for the 12 average monthly values\n",
    "    \"\"\"\n",
    "\n",
    "    # Initialise output\n",
    "    averages = np.zeros(12)\n",
    "\n",
    "    # Main loop to compute all 12 monthly averages\n",
    "    for month in np.arange(1, 13, 1):\n",
    "        monthly_mask = flows.index.month == month  # Select only values for the right month\n",
    "        averages[month - 1] = flows.loc[monthly_mask, variable_name].mean()  # Apply average operator\n",
    "\n",
    "    return averages\n",
    "\n",
    "\n",
    "# Plotting the figure\n",
    "def monthly_averages(flows, variable_name):\n",
    "    \"\"\"\n",
    "    Plot monthly average inflows from `flows` pandas DataFrame.\n",
    "    \"\"\"\n",
    "\n",
    "    # Get monthly average inflows\n",
    "    monthly_average = compute_monthly_average(flows, variable_name)\n",
    "\n",
    "    # Plot figure\n",
    "    fig = plt.figure()\n",
    "    ax = fig.add_subplot(1, 1, 1)\n",
    "    ax.plot(np.arange(1, 13, 1), monthly_average, c='b')\n",
    "    plt.xticks(ticks=np.arange(1, 13, 1), labels=['J', 'F', 'M', 'A', 'M', 'J', 'J', 'A', 'S', 'O', 'N', 'D'])\n",
    "    ax.set_xlabel('Month', size=14)\n",
    "    ax.set_ylabel('Average inflows (m3/s)', size=14)\n",
    "    ax.set_xlim(1, 12)\n",
    "\n",
    "    return fig\n",
    "\n",
    "fig = monthly_averages(flow_df, 'Total inflows (m3/s)')"
   ]
  },
  {
   "cell_type": "markdown",
   "metadata": {},
   "source": [
    "Did you notice we just introduced the numpy library?"
   ]
  }
 ],
 "metadata": {
  "kernelspec": {
   "display_name": "mac441",
   "language": "python",
   "name": "mac441"
  },
  "language_info": {
   "codemirror_mode": {
    "name": "ipython",
    "version": 3
   },
   "file_extension": ".py",
   "mimetype": "text/x-python",
   "name": "python",
   "nbconvert_exporter": "python",
   "pygments_lexer": "ipython3",
   "version": "3.12.3"
  }
 },
 "nbformat": 4,
 "nbformat_minor": 4
}
