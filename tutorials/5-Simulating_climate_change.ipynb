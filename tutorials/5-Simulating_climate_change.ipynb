{
 "cells": [
  {
   "cell_type": "markdown",
   "metadata": {
    "id": "Yt916O_HhkAy"
   },
   "source": [
    "# Imports and data uploads\n",
    "\n",
    "As is customary, let us first call the Python libraries needed here, and upload the needed data and code."
   ]
  },
  {
   "cell_type": "code",
   "execution_count": null,
   "metadata": {
    "executionInfo": {
     "elapsed": 564,
     "status": "ok",
     "timestamp": 1712936927047,
     "user": {
      "displayName": "Charles Rougé",
      "userId": "02328605607346880259"
     },
     "user_tz": -60
    },
    "id": "hoEWhFzkXIIb"
   },
   "outputs": [],
   "source": [
    "from model import setup, balance_calcs, func_FDC, visuals, performance\n",
    "import datetime\n",
    "import pandas as pd\n",
    "import math\n",
    "from scipy import special\n",
    "import matplotlib.pyplot as plt"
   ]
  },
  {
   "cell_type": "markdown",
   "metadata": {
    "id": "WMIgClwijXD_"
   },
   "source": [
    "# Part 1: Historical water balance\n",
    "\n",
    "In this tutorial we will build on the model we developed in Tutorial 2.\n",
    "\n",
    "The historical water balance will enable us to compare with results under climate change."
   ]
  },
  {
   "cell_type": "code",
   "execution_count": null,
   "metadata": {
    "colab": {
     "base_uri": "https://localhost:8080/"
    },
    "executionInfo": {
     "elapsed": 3136,
     "status": "ok",
     "timestamp": 1712936952869,
     "user": {
      "displayName": "Charles Rougé",
      "userId": "02328605607346880259"
     },
     "user_tz": -60
    },
    "id": "OA_TBdm4rxcW",
    "outputId": "35a6129e-9086-444e-a7b9-271367b2dc63"
   },
   "outputs": [],
   "source": [
    "# Preparing the model\n",
    "reservoir_name = 'Conowingo'\n",
    "downstream_demand_names = ['Environmental']\n",
    "direct_demand_names = ['Baltimore', 'Chester', 'Nuclear plant']\n",
    "\n",
    "# Loading the model!\n",
    "conowingo = setup.define_reservoir(reservoir_name, downstream_demand_names, direct_demand_names)\n",
    "\n",
    "# Checking on the structure, e.g.:\n",
    "print('Demand downstream of the dam is ' + conowingo.demand_downstream[0].name + '.')\n",
    "print('Dead storage is ' + \"{:.1f}\".format(conowingo.dead_storage / 100**3) + ' hm3')"
   ]
  },
  {
   "cell_type": "code",
   "execution_count": null,
   "metadata": {
    "colab": {
     "base_uri": "https://localhost:8080/"
    },
    "executionInfo": {
     "elapsed": 3545,
     "status": "ok",
     "timestamp": 1712937024376,
     "user": {
      "displayName": "Charles Rougé",
      "userId": "02328605607346880259"
     },
     "user_tz": -60
    },
    "id": "if53mqKzAF8I",
    "outputId": "91dbf63f-9748-4d24-90ab-79a1c27d506e"
   },
   "outputs": [],
   "source": [
    "# Read flow and demand data. We keep this copy of the data for the simulation of different futures.\n",
    "flows_default = setup.extract_flows(reservoir=conowingo)\n",
    "display(flows_default)"
   ]
  },
  {
   "cell_type": "code",
   "execution_count": null,
   "metadata": {
    "colab": {
     "base_uri": "https://localhost:8080/"
    },
    "executionInfo": {
     "elapsed": 7938,
     "status": "ok",
     "timestamp": 1712937043084,
     "user": {
      "displayName": "Charles Rougé",
      "userId": "02328605607346880259"
     },
     "user_tz": -60
    },
    "id": "smixVwQqAMn2",
    "outputId": "7af7e4d3-10d8-435e-e12c-9b3dcfab3df7"
   },
   "outputs": [],
   "source": [
    "# First, make a copy of the flows to initialise the water balance\n",
    "historical_balance = flows_default.copy()  # Keep flows_default as an untouched copy\n",
    "\n",
    "# Computing the water balance for our standard operating policy (SOP)\n",
    "balance_calcs.sop_full(reservoir=conowingo, water_flows=historical_balance)\n",
    "\n",
    "# Results check\n",
    "print(historical_balance.columns)"
   ]
  },
  {
   "cell_type": "markdown",
   "metadata": {},
   "source": [
    "Now that we have our water balance, we can have the same visuals as before. **In particular let's focus on the dry period in the 1960s we identified in previous tutorials.**"
   ]
  },
  {
   "cell_type": "code",
   "execution_count": null,
   "metadata": {
    "colab": {
     "base_uri": "https://localhost:8080/",
     "height": 470
    },
    "executionInfo": {
     "elapsed": 691,
     "status": "ok",
     "timestamp": 1712937125723,
     "user": {
      "displayName": "Charles Rougé",
      "userId": "02328605607346880259"
     },
     "user_tz": -60
    },
    "id": "rH4EKgRLAbFQ",
    "outputId": "c63d6814-4a79-427e-d197-704d928f9576"
   },
   "outputs": [],
   "source": [
    "# Storage in the dry period in the 1960s\n",
    "fig = visuals.storage_timeseries(reservoir=conowingo, \n",
    "                                 balance=historical_balance, \n",
    "                                 first_date=datetime.date(1962, 1, 1), \n",
    "                                 last_date=datetime.date(1968, 1, 1))"
   ]
  },
  {
   "cell_type": "markdown",
   "metadata": {},
   "source": [
    "#  Part 2: A simple model to simulate a drier future\n",
    "\n",
    "Now we want to represent a drier future. For this, **the simplest way is to multiply all flows by the same factor**. Here we uniformly decrease all flows by 20%. This means there is 20% less water on average, but also that the standard deviation of flow decreases by 20%."
   ]
  },
  {
   "cell_type": "code",
   "execution_count": null,
   "metadata": {},
   "outputs": [],
   "source": [
    "# First, we define our uniform model for inflows and perform the water balance with it.\n",
    "def uniform_change_model(flows_original, multiplier):\n",
    "    \"\"\"\n",
    "    This function initialises the water balance with inflows modified by the desired streamflow multiplier.\n",
    "    Arguments:\n",
    "        - flows_original: the flows DataFrame from reading the data. This copy is kept unmodified.\n",
    "        - multiplier: float, a factor by which to multiply all flows.\n",
    "    \"\"\"\n",
    "\n",
    "    # Get a copy of the data so that there is an untouched original copy\n",
    "    water_balance = flows_original.copy()\n",
    "    water_balance['Total inflows (m3/s)'] = water_balance['Total inflows (m3/s)'] * multiplier\n",
    "\n",
    "    return water_balance"
   ]
  },
  {
   "cell_type": "code",
   "execution_count": null,
   "metadata": {},
   "outputs": [],
   "source": [
    "# Define flow multiplier\n",
    "flow_multiplier = 0.8  # 0.8 corresponds to a uniform 20% flow reduction"
   ]
  },
  {
   "cell_type": "code",
   "execution_count": null,
   "metadata": {},
   "outputs": [],
   "source": [
    "# Define uniform flow reduction scenario\n",
    "drier_future = uniform_change_model(flows_default, flow_multiplier)\n",
    "\n",
    "# Perform water balance under standard operating policy (SOP)\n",
    "balance_calcs.sop_full(reservoir=conowingo, water_flows=drier_future)"
   ]
  },
  {
   "cell_type": "markdown",
   "metadata": {},
   "source": [
    "Now let's compare this drier future with historical data. First let's examine what that means for inflows, then for reservoir operations and performance.\n",
    "\n",
    "## 2.1 - Compare monthly average  flows"
   ]
  },
  {
   "cell_type": "code",
   "execution_count": null,
   "metadata": {},
   "outputs": [],
   "source": [
    "fig = visuals.compare_monthly_averages(reference=pd.Series(historical_balance['Total inflows (m3/s)']), \n",
    "                                       alternative=pd.Series(drier_future['Total inflows (m3/s)']), \n",
    "                                       labels=['Historical', 'Drier future'])"
   ]
  },
  {
   "cell_type": "markdown",
   "metadata": {},
   "source": [
    "## 2.2 -  Compare daily inflows"
   ]
  },
  {
   "cell_type": "code",
   "execution_count": null,
   "metadata": {},
   "outputs": [],
   "source": [
    "# Compare inflows especially in drier period 1962-1968\n",
    "fig = visuals.compare_flow_timeseries(reference=pd.Series(historical_balance['Total inflows (m3/s)']),\n",
    "                                      alternative=pd.Series(drier_future['Total inflows (m3/s)']),\n",
    "                                      labels=['Historical', 'Drier future'], \n",
    "                                      first_date=datetime.date(1962, 1, 1), \n",
    "                                      last_date=datetime.date(1963, 1, 1))"
   ]
  },
  {
   "cell_type": "markdown",
   "metadata": {},
   "source": [
    "## 2.3 -  Compare storage"
   ]
  },
  {
   "cell_type": "code",
   "execution_count": null,
   "metadata": {},
   "outputs": [],
   "source": [
    "fig = visuals.compare_storage_timeseries(reservoir=conowingo, \n",
    "                                         storage_1=pd.Series(historical_balance['Storage (m3)']),\n",
    "                                         storage_2=pd.Series(drier_future['Storage (m3)']), \n",
    "                                         labels=['Historical', 'Drier future'],\n",
    "                                         first_date=datetime.date(1962, 1, 1), \n",
    "                                         last_date=datetime.date(1970, 1, 1))"
   ]
  },
  {
   "cell_type": "markdown",
   "metadata": {},
   "source": [
    ">* **Question 1. Is a uniform flow reduction consistent with our lived experience of climate change, in particular, is it consistent with what we see in terms of extreme water events across the world?**\n",
    "\n",
    "\n",
    "\n",
    "# Part 3: Amplified Extremes (AE) model for dry futures\n",
    "\n",
    "As we move forward, **our objective is to generate future flow scenarios that go beyond modelling just a change in the mean. For this we use a statistical model for flow generation. We use this to create another scenario with amplified extremes.** \n",
    "\n",
    "In this amplified extremes (AE) model, we can adjust three parameters: mean flow, standard deviation and a the first or fifth percentile of flows (to represent how changes can particularly affect the extremes). By modifying additional parameters, we aim to capture a more nuanced representation of future flow dynamics. A full description of the model can be found [at this link](https://hess.copernicus.org/articles/27/2499/2023/). "
   ]
  },
  {
   "cell_type": "markdown",
   "metadata": {},
   "source": [
    "## 3.1 - Define a nuanced drier future flow scenario\n",
    "\n",
    "We want to define a scenario a 20% reduction in mean flow as before, but instead of this reduction being uniform on high and low flows, we want to represent that:\n",
    ">* Overall variability increases;\n",
    ">* Low flows might be more severely affected than average conditions."
   ]
  },
  {
   "cell_type": "code",
   "execution_count": null,
   "metadata": {},
   "outputs": [],
   "source": [
    "# Define multipler of streamflow statistics for the amplified extremes (AE) model\n",
    "# Change in the mean, multiplier smaller than 1 for a drier future\n",
    "multiplier_mean = flow_multiplier  # For the sake of comparison with the uniform model\n",
    "# Change in variability, multiplier higher than 1 for increased variability\n",
    "multiplier_std = 1.5\n",
    "# Change in the low flows, multiplier smaller than 1 for more severe dry conditions\n",
    "multiplier_lowflow = 0.6\n",
    "\n",
    "multipliers_AE = [multiplier_mean, multiplier_std, multiplier_lowflow]\n",
    "\n",
    "# Executing the Model with historical flow data and a defined scenario \n",
    "drier_future_AE = balance_calcs.amplified_extremes_model(flows_original=flows_default, \n",
    "                                                         model_multipliers=multipliers_AE, \n",
    "                                                         low_quantile=1)\n",
    "\n",
    "# Computing the water balance for our standard operating policy (SOP)\n",
    "balance_calcs.sop_full(reservoir=conowingo, water_flows=drier_future_AE)"
   ]
  },
  {
   "cell_type": "markdown",
   "metadata": {},
   "source": [
    "# Part 4: Let us compare all three scenarios\n",
    "\n",
    "In this part of this tutorial, we execute the water balance model for all the scenarios. This entails comparing storage and performance metrics. This analysis will provide insights into the system's behavior under different conditions.\n",
    "\n",
    "## 4.1 - Compare flow duration curves\n",
    "\n",
    "A flow duration curve (FDC) plots the exceedance probability of different flow rates. This enables us to get a good idea of the flow regime, and to compare flow regimes under different climates."
   ]
  },
  {
   "cell_type": "code",
   "execution_count": null,
   "metadata": {},
   "outputs": [],
   "source": [
    "fig = visuals.compare_fdc(reference=pd.Series(historical_balance['Total inflows (m3/s)']), \n",
    "                          alternative=pd.Series(drier_future['Total inflows (m3/s)']), \n",
    "                          alternative_2=pd.Series(drier_future_AE['Total inflows (m3/s)']), \n",
    "                          labels=['Historical', 'Drier future (uniform)', 'Drier future (AE)'])"
   ]
  },
  {
   "cell_type": "markdown",
   "metadata": {},
   "source": [
    ">* **Question 2. How do the two proposed models affect flow duration curves?**\n",
    "\n",
    "## 4.2 - Compare monthly average flows"
   ]
  },
  {
   "cell_type": "code",
   "execution_count": null,
   "metadata": {},
   "outputs": [],
   "source": [
    "fig = visuals.compare_monthly_averages(reference=pd.Series(historical_balance['Total inflows (m3/s)']), \n",
    "                                       alternative=pd.Series(drier_future['Total inflows (m3/s)']), \n",
    "                                       alternative_2=pd.Series(drier_future_AE['Total inflows (m3/s)']), \n",
    "                                       labels=['Historical', 'Drier future (uniform)', 'Drier future (AE)'])\n",
    "fig.savefig('flows.png')"
   ]
  },
  {
   "cell_type": "markdown",
   "metadata": {},
   "source": [
    ">* **Question 3. How do the two proposed models affect flow seasonality?**\n",
    "\n",
    "\n",
    "## 4.3 - Compare daily flows"
   ]
  },
  {
   "cell_type": "code",
   "execution_count": null,
   "metadata": {},
   "outputs": [],
   "source": [
    "# Compare inflows, especially in drier period 1962-1968.\n",
    "fig = visuals.compare_flow_timeseries(reference=pd.Series(historical_balance['Total inflows (m3/s)']),\n",
    "                                      alternative=pd.Series(drier_future['Total inflows (m3/s)']),\n",
    "                                      alternative_2=pd.Series(drier_future_AE['Total inflows (m3/s)']),\n",
    "                                      labels=['Historical', 'Drier future (uniform)', 'Drier future (AE)'], \n",
    "                                      first_date=datetime.date(1962, 1, 1), \n",
    "                                      last_date=datetime.date(1963, 1, 1))"
   ]
  },
  {
   "cell_type": "markdown",
   "metadata": {},
   "source": [
    ">* **Question 4. How are the differences between the two models represented for daily inflows?**\n",
    ">* **Question 5. What drawbacks do you see for both methods for generating futures?**\n",
    "\n",
    "\n",
    "\n",
    "\n",
    "## 4.4 - Compare storage"
   ]
  },
  {
   "cell_type": "code",
   "execution_count": null,
   "metadata": {},
   "outputs": [],
   "source": [
    "fig = visuals.compare_storage_timeseries(reservoir=conowingo, \n",
    "                                         storage_1=pd.Series(historical_balance['Storage (m3)']),\n",
    "                                         storage_2=pd.Series(drier_future['Storage (m3)']), \n",
    "                                         storage_3=pd.Series(drier_future_AE['Storage (m3)']),\n",
    "                                         labels=['Historical', 'Drier future(uniform)', 'Drier future (AE)'],\n",
    "                                         first_date=datetime.date(1962, 1, 1), \n",
    "                                         last_date=datetime.date(1970, 1, 1))"
   ]
  },
  {
   "cell_type": "markdown",
   "metadata": {},
   "source": [
    ">* **Question 6. What are the consequences for storage of using either model?**\n",
    "\n",
    "\n",
    "## 4.5 - Performance comparison\n",
    "\n",
    "All the performance code is also available in `model/performance.py` which can be imported using `from model import performance`.\n",
    "\n",
    "We display one above the other the full metrics for:\n",
    "1) Historical conditions.\n",
    "2) Model 1, uniform 20% inflow decrease.\n",
    "3) Model 2, 20% average inflow decrease with extreme amplification."
   ]
  },
  {
   "cell_type": "code",
   "execution_count": null,
   "metadata": {},
   "outputs": [],
   "source": [
    "metrics_h = performance.all_metrics(conowingo, historical_balance)\n",
    "display(metrics_h)  # 1 - Historical conditions"
   ]
  },
  {
   "cell_type": "code",
   "execution_count": null,
   "metadata": {},
   "outputs": [],
   "source": [
    "metrics_u = performance.all_metrics(conowingo, drier_future)\n",
    "display(metrics_u)  # 2 - Uniform model, 20% inflow decrease."
   ]
  },
  {
   "cell_type": "code",
   "execution_count": null,
   "metadata": {},
   "outputs": [],
   "source": [
    "metrics_ae = performance.all_metrics(conowingo, drier_future_AE)\n",
    "display(metrics_ae)  # 3 - AE model, 20% average inflow decrease with extreme amplification."
   ]
  },
  {
   "cell_type": "markdown",
   "metadata": {},
   "source": [
    ">* **Question 7. How did the choice of model affect performance?**\n",
    ">* **Question 8. Try changing parameters of the AE model. For instance, what happens to performance if instead of a 20% decrease, the mean were unchanged compared with historical conditions?**\n",
    "\n",
    "**Hint:** you can change the parameters of the AE model to better appreciate the importance of modelling changes in the extremes. For instance, if you change `multiplier_mean` to `1.0`, you can appreciate the difference between this future and the historical flows (for the same average flows)."
   ]
  },
  {
   "cell_type": "code",
   "execution_count": null,
   "metadata": {},
   "outputs": [],
   "source": []
  }
 ],
 "metadata": {
  "colab": {
   "provenance": []
  },
  "kernelspec": {
   "display_name": "mac441",
   "language": "python",
   "name": "mac441"
  },
  "language_info": {
   "codemirror_mode": {
    "name": "ipython",
    "version": 3
   },
   "file_extension": ".py",
   "mimetype": "text/x-python",
   "name": "python",
   "nbconvert_exporter": "python",
   "pygments_lexer": "ipython3",
   "version": "3.12.3"
  }
 },
 "nbformat": 4,
 "nbformat_minor": 4
}
